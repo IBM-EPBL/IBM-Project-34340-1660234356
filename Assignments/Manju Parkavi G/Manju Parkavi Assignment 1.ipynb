{
 "cells": [
  {
   "cell_type": "markdown",
   "id": "11f55afa",
   "metadata": {},
   "source": [
    "Basic Python"
   ]
  },
  {
   "cell_type": "markdown",
   "id": "a39450a6",
   "metadata": {},
   "source": [
    "1. Split this string"
   ]
  },
  {
   "cell_type": "code",
   "execution_count": 1,
   "id": "27e44fd5",
   "metadata": {},
   "outputs": [],
   "source": [
    "s = \"Hi there Sam!\""
   ]
  },
  {
   "cell_type": "code",
   "execution_count": 2,
   "id": "280d4d6a",
   "metadata": {},
   "outputs": [
    {
     "data": {
      "text/plain": [
       "['Hi', 'there', 'Sam!']"
      ]
     },
     "execution_count": 2,
     "metadata": {},
     "output_type": "execute_result"
    }
   ],
   "source": [
    "s.split()"
   ]
  },
  {
   "cell_type": "markdown",
   "id": "dac34e79",
   "metadata": {},
   "source": [
    "1.Use .format() to print the following string."
   ]
  },
  {
   "cell_type": "markdown",
   "id": "d4992903",
   "metadata": {},
   "source": [
    "Output should be: The diameter of Earth is 12742 kilometers."
   ]
  },
  {
   "cell_type": "code",
   "execution_count": 3,
   "id": "998b5443",
   "metadata": {},
   "outputs": [],
   "source": [
    "planet = \"Earth\"\n",
    "diameter = 12742"
   ]
  },
  {
   "cell_type": "code",
   "execution_count": 4,
   "id": "96651a6f",
   "metadata": {},
   "outputs": [
    {
     "name": "stdout",
     "output_type": "stream",
     "text": [
      "The diameter of Earth is 12742 Kilometers\n"
     ]
    }
   ],
   "source": [
    "print(f\"The diameter of {planet} is {diameter} Kilometers\")"
   ]
  },
  {
   "cell_type": "markdown",
   "id": "ee0e4cea",
   "metadata": {},
   "source": [
    "1.In this nest dictionary grab the word \"hello\""
   ]
  },
  {
   "cell_type": "code",
   "execution_count": 5,
   "id": "5aa19ac7",
   "metadata": {},
   "outputs": [],
   "source": [
    "d = {'k1':[1,2,3,{'tricky':['oh','man','inception',{'target':[1,2,3,'hello']}]}]}"
   ]
  },
  {
   "cell_type": "code",
   "execution_count": 6,
   "id": "f8051037",
   "metadata": {},
   "outputs": [
    {
     "name": "stdout",
     "output_type": "stream",
     "text": [
      "hello\n"
     ]
    }
   ],
   "source": [
    "print(d['k1'][3]['tricky'][3]['target'][3])"
   ]
  },
  {
   "cell_type": "markdown",
   "id": "6f605de4",
   "metadata": {},
   "source": [
    "4.Numpy"
   ]
  },
  {
   "cell_type": "code",
   "execution_count": 7,
   "id": "d67a437b",
   "metadata": {},
   "outputs": [],
   "source": [
    "import numpy as np"
   ]
  },
  {
   "cell_type": "markdown",
   "id": "1b34eb18",
   "metadata": {},
   "source": [
    "4.1 Create an array of 10 zeros?"
   ]
  },
  {
   "cell_type": "markdown",
   "id": "2285ab89",
   "metadata": {},
   "source": [
    "4.2 Create an array of 10 fives?"
   ]
  },
  {
   "cell_type": "code",
   "execution_count": 8,
   "id": "5bbaf5f3",
   "metadata": {},
   "outputs": [
    {
     "name": "stdout",
     "output_type": "stream",
     "text": [
      "[0. 0. 0. 0. 0. 0. 0. 0. 0. 0.]\n"
     ]
    }
   ],
   "source": [
    "arrZeros=np.zeros(10)\n",
    "print(arrZeros)"
   ]
  },
  {
   "cell_type": "code",
   "execution_count": 9,
   "id": "d2c8e023",
   "metadata": {},
   "outputs": [
    {
     "name": "stdout",
     "output_type": "stream",
     "text": [
      "[5. 5. 5. 5. 5. 5. 5. 5. 5. 5.]\n"
     ]
    }
   ],
   "source": [
    "arrFives=np.ones(10)*5\n",
    "print(arrFives)"
   ]
  },
  {
   "cell_type": "markdown",
   "id": "65b3f800",
   "metadata": {},
   "source": [
    "1.Create an array of all the even integers from 20 to 35"
   ]
  },
  {
   "cell_type": "code",
   "execution_count": 10,
   "id": "7ab81e38",
   "metadata": {},
   "outputs": [
    {
     "name": "stdout",
     "output_type": "stream",
     "text": [
      "[20 22 24 26 28 30 32 34]\n"
     ]
    }
   ],
   "source": [
    "eveArr=np.arange(20,35,2)\n",
    "print(eveArr)"
   ]
  },
  {
   "cell_type": "markdown",
   "id": "786d845e",
   "metadata": {},
   "source": [
    "1.Create a 3x3 matrix with values ranging from 0 to 8"
   ]
  },
  {
   "cell_type": "code",
   "execution_count": 11,
   "id": "d4aa8b2c",
   "metadata": {},
   "outputs": [
    {
     "name": "stdout",
     "output_type": "stream",
     "text": [
      "[[0 1 2]\n",
      " [3 4 5]\n",
      " [6 7 8]]\n"
     ]
    }
   ],
   "source": [
    "m=np.arange(0, 9).reshape(3,3)\n",
    "print(m)"
   ]
  },
  {
   "cell_type": "markdown",
   "id": "5f8d6943",
   "metadata": {},
   "source": [
    "1.Concatinate a and b"
   ]
  },
  {
   "cell_type": "markdown",
   "id": "b402c299",
   "metadata": {},
   "source": [
    "a = np.array([1, 2, 3]), b = np.array([4, 5, 6])"
   ]
  },
  {
   "cell_type": "code",
   "execution_count": 12,
   "id": "16733ada",
   "metadata": {},
   "outputs": [
    {
     "name": "stdout",
     "output_type": "stream",
     "text": [
      "[1 2 3 4 5 6]\n"
     ]
    }
   ],
   "source": [
    "a=np.array([1,2,3])\n",
    "b=np.array([4,5,6])\n",
    "ccMatrix=np.concatenate((a,b),axis=None)\n",
    "print(ccMatrix)"
   ]
  },
  {
   "cell_type": "markdown",
   "id": "a9a2cbcd",
   "metadata": {},
   "source": [
    "Pandas"
   ]
  },
  {
   "cell_type": "markdown",
   "id": "9a6f90d8",
   "metadata": {},
   "source": [
    "1.Create a dataframe with 3 rows and 2 columns"
   ]
  },
  {
   "cell_type": "code",
   "execution_count": 13,
   "id": "1b4dece7",
   "metadata": {},
   "outputs": [],
   "source": [
    "import pandas as pd"
   ]
  },
  {
   "cell_type": "code",
   "execution_count": 14,
   "id": "d433c778",
   "metadata": {},
   "outputs": [
    {
     "data": {
      "text/html": [
       "<div>\n",
       "<style scoped>\n",
       "    .dataframe tbody tr th:only-of-type {\n",
       "        vertical-align: middle;\n",
       "    }\n",
       "\n",
       "    .dataframe tbody tr th {\n",
       "        vertical-align: top;\n",
       "    }\n",
       "\n",
       "    .dataframe thead th {\n",
       "        text-align: right;\n",
       "    }\n",
       "</style>\n",
       "<table border=\"1\" class=\"dataframe\">\n",
       "  <thead>\n",
       "    <tr style=\"text-align: right;\">\n",
       "      <th></th>\n",
       "      <th>0</th>\n",
       "      <th>1</th>\n",
       "    </tr>\n",
       "  </thead>\n",
       "  <tbody>\n",
       "    <tr>\n",
       "      <th>0</th>\n",
       "      <td>0</td>\n",
       "      <td>1</td>\n",
       "    </tr>\n",
       "    <tr>\n",
       "      <th>1</th>\n",
       "      <td>2</td>\n",
       "      <td>3</td>\n",
       "    </tr>\n",
       "    <tr>\n",
       "      <th>2</th>\n",
       "      <td>4</td>\n",
       "      <td>5</td>\n",
       "    </tr>\n",
       "  </tbody>\n",
       "</table>\n",
       "</div>"
      ],
      "text/plain": [
       "   0  1\n",
       "0  0  1\n",
       "1  2  3\n",
       "2  4  5"
      ]
     },
     "execution_count": 14,
     "metadata": {},
     "output_type": "execute_result"
    }
   ],
   "source": [
    "df=pd.DataFrame(np.arange(0,6).reshape(3,2))\n",
    "df"
   ]
  },
  {
   "cell_type": "markdown",
   "id": "24e4f1dc",
   "metadata": {},
   "source": [
    "1.Generate the series of dates from 1st Jan, 2023 to 10th Feb, 2023"
   ]
  },
  {
   "cell_type": "code",
   "execution_count": 15,
   "id": "b2efc5b0",
   "metadata": {},
   "outputs": [
    {
     "data": {
      "text/plain": [
       "0    2023-01-01\n",
       "1    2023-01-02\n",
       "2    2023-01-03\n",
       "3    2023-01-04\n",
       "4    2023-01-05\n",
       "5    2023-01-06\n",
       "6    2023-01-07\n",
       "7    2023-01-08\n",
       "8    2023-01-09\n",
       "9    2023-01-10\n",
       "10   2023-01-11\n",
       "11   2023-01-12\n",
       "12   2023-01-13\n",
       "13   2023-01-14\n",
       "14   2023-01-15\n",
       "15   2023-01-16\n",
       "16   2023-01-17\n",
       "17   2023-01-18\n",
       "18   2023-01-19\n",
       "19   2023-01-20\n",
       "20   2023-01-21\n",
       "21   2023-01-22\n",
       "22   2023-01-23\n",
       "23   2023-01-24\n",
       "24   2023-01-25\n",
       "25   2023-01-26\n",
       "26   2023-01-27\n",
       "27   2023-01-28\n",
       "28   2023-01-29\n",
       "29   2023-01-30\n",
       "30   2023-01-31\n",
       "31   2023-02-01\n",
       "32   2023-02-02\n",
       "33   2023-02-03\n",
       "34   2023-02-04\n",
       "35   2023-02-05\n",
       "36   2023-02-06\n",
       "37   2023-02-07\n",
       "38   2023-02-08\n",
       "39   2023-02-09\n",
       "40   2023-02-10\n",
       "dtype: datetime64[ns]"
      ]
     },
     "execution_count": 15,
     "metadata": {},
     "output_type": "execute_result"
    }
   ],
   "source": [
    "d=pd.date_range(start='1/1/2023', end='2/10/2023')\n",
    "pd.Series(d)"
   ]
  },
  {
   "cell_type": "markdown",
   "id": "2153c3dd",
   "metadata": {},
   "source": [
    "1.Create 2D list to DataFrame"
   ]
  },
  {
   "cell_type": "markdown",
   "id": "959cbfa3",
   "metadata": {},
   "source": [
    "lists = [[1, 'aaa', 22], [2, 'bbb', 25], [3, 'ccc', 24]]"
   ]
  },
  {
   "cell_type": "code",
   "execution_count": 16,
   "id": "cdc8e6f9",
   "metadata": {},
   "outputs": [],
   "source": [
    "lists = [[1, 'aaa', 22], [2, 'bbb', 25], [3, 'ccc', 24]]"
   ]
  },
  {
   "cell_type": "code",
   "execution_count": 17,
   "id": "6e43a742",
   "metadata": {},
   "outputs": [
    {
     "data": {
      "text/html": [
       "<div>\n",
       "<style scoped>\n",
       "    .dataframe tbody tr th:only-of-type {\n",
       "        vertical-align: middle;\n",
       "    }\n",
       "\n",
       "    .dataframe tbody tr th {\n",
       "        vertical-align: top;\n",
       "    }\n",
       "\n",
       "    .dataframe thead th {\n",
       "        text-align: right;\n",
       "    }\n",
       "</style>\n",
       "<table border=\"1\" class=\"dataframe\">\n",
       "  <thead>\n",
       "    <tr style=\"text-align: right;\">\n",
       "      <th></th>\n",
       "      <th>0</th>\n",
       "      <th>1</th>\n",
       "      <th>2</th>\n",
       "    </tr>\n",
       "  </thead>\n",
       "  <tbody>\n",
       "    <tr>\n",
       "      <th>0</th>\n",
       "      <td>1</td>\n",
       "      <td>aaa</td>\n",
       "      <td>22</td>\n",
       "    </tr>\n",
       "    <tr>\n",
       "      <th>1</th>\n",
       "      <td>2</td>\n",
       "      <td>bbb</td>\n",
       "      <td>25</td>\n",
       "    </tr>\n",
       "    <tr>\n",
       "      <th>2</th>\n",
       "      <td>3</td>\n",
       "      <td>ccc</td>\n",
       "      <td>24</td>\n",
       "    </tr>\n",
       "  </tbody>\n",
       "</table>\n",
       "</div>"
      ],
      "text/plain": [
       "   0    1   2\n",
       "0  1  aaa  22\n",
       "1  2  bbb  25\n",
       "2  3  ccc  24"
      ]
     },
     "execution_count": 17,
     "metadata": {},
     "output_type": "execute_result"
    }
   ],
   "source": [
    "df = pd.DataFrame(lists)\n",
    "df"
   ]
  },
  {
   "cell_type": "code",
   "execution_count": null,
   "id": "2a28d854",
   "metadata": {},
   "outputs": [],
   "source": []
  }
 ],
 "metadata": {
  "kernelspec": {
   "display_name": "Python 3 (ipykernel)",
   "language": "python",
   "name": "python3"
  },
  "language_info": {
   "codemirror_mode": {
    "name": "ipython",
    "version": 3
   },
   "file_extension": ".py",
   "mimetype": "text/x-python",
   "name": "python",
   "nbconvert_exporter": "python",
   "pygments_lexer": "ipython3",
   "version": "3.9.12"
  }
 },
 "nbformat": 4,
 "nbformat_minor": 5
}
