{
 "cells": [
  {
   "cell_type": "markdown",
   "id": "e0f6e48d",
   "metadata": {},
   "source": [
    "Basic Python"
   ]
  },
  {
   "cell_type": "markdown",
   "id": "bf3595d9",
   "metadata": {},
   "source": [
    "1.Split this string"
   ]
  },
  {
   "cell_type": "code",
   "execution_count": 1,
   "id": "706fd46b",
   "metadata": {},
   "outputs": [],
   "source": [
    "s = \"Hi there Sam!\""
   ]
  },
  {
   "cell_type": "code",
   "execution_count": 2,
   "id": "ed9b5c45",
   "metadata": {},
   "outputs": [
    {
     "data": {
      "text/plain": [
       "['Hi', 'there', 'Sam!']"
      ]
     },
     "execution_count": 2,
     "metadata": {},
     "output_type": "execute_result"
    }
   ],
   "source": [
    "s.split()"
   ]
  },
  {
   "cell_type": "markdown",
   "id": "e1932756",
   "metadata": {},
   "source": [
    "Use .format() to print the following string."
   ]
  },
  {
   "cell_type": "markdown",
   "id": "0100e2a6",
   "metadata": {},
   "source": [
    "Output should be: The diameter of Earth is 12742 kilometers."
   ]
  },
  {
   "cell_type": "code",
   "execution_count": 4,
   "id": "3fa69618",
   "metadata": {},
   "outputs": [],
   "source": [
    "planet = \"Earth\"\n",
    "diameter = 12742"
   ]
  },
  {
   "cell_type": "code",
   "execution_count": 5,
   "id": "8c642cee",
   "metadata": {},
   "outputs": [
    {
     "name": "stdout",
     "output_type": "stream",
     "text": [
      "The diameter of Earth is 12742 Kilometers\n"
     ]
    }
   ],
   "source": [
    "print(f\"The diameter of {planet} is {diameter} Kilometers\")"
   ]
  },
  {
   "cell_type": "markdown",
   "id": "b62ae5e1",
   "metadata": {},
   "source": [
    "In this nest dictionary grab the word \"hello\""
   ]
  },
  {
   "cell_type": "code",
   "execution_count": 6,
   "id": "364dafcc",
   "metadata": {},
   "outputs": [],
   "source": [
    "d = {'k1':[1,2,3,{'tricky':['oh','man','incept4.1 Create an array of 10 zeros?\n",
    "\n",
    "4.2 Create an array of 10 fives?ion',{'target':[1,2,3,'hello']}]}]}4.1 Create an array of 10 zeros?\n",
    "\n",
    "4.2 Create an array of 10 fives?"
   ]
  },
  {
   "cell_type": "code",
   "execution_count": 7,
   "id": "1ac8b7f4",
   "metadata": {},
   "outputs": [
    {
     "name": "stdout",
     "output_type": "stream",
     "text": [
      "hello\n"
     ]
    }
   ],
   "source": [
    "print(d['k1'][3]['tricky'][3]['target'][3])"
   ]
  },
  {
   "cell_type": "markdown",
   "id": "7d351cd6",
   "metadata": {},
   "source": [
    "4.Numpy"
   ]
  },
  {
   "cell_type": "code",
   "execution_count": 8,
   "id": "ca768d47",
   "metadata": {},
   "outputs": [],
   "source": [
    "import numpy as np"
   ]
  },
  {
   "cell_type": "markdown",
   "id": "1788fe11",
   "metadata": {},
   "source": [
    "4.1 Create an array of 10 zeros?\n",
    "\n",
    "4.2 Create an array of 10 fives?"
   ]
  },
  {
   "cell_type": "code",
   "execution_count": 9,
   "id": "9ea7992f",
   "metadata": {},
   "outputs": [
    {
     "name": "stdout",
     "output_type": "stream",
     "text": [
      "[0. 0. 0. 0. 0. 0. 0. 0. 0. 0.]\n"
     ]
    }
   ],
   "source": [
    "arrZeros=np.zeros(10)\n",
    "print(arrZeros)"
   ]
  },
  {
   "cell_type": "code",
   "execution_count": 10,
   "id": "f2792bba",
   "metadata": {},
   "outputs": [
    {
     "name": "stdout",
     "output_type": "stream",
     "text": [
      "[5. 5. 5. 5. 5. 5. 5. 5. 5. 5.]\n"
     ]
    }
   ],
   "source": [
    "arrFives=np.ones(10)*5\n",
    "print(arrFives)"
   ]
  },
  {
   "cell_type": "markdown",
   "id": "1f9fd2d2",
   "metadata": {},
   "source": [
    "Create an array of all the even integers from 20 to 35"
   ]
  },
  {
   "cell_type": "code",
   "execution_count": 11,
   "id": "a2cf2c79",
   "metadata": {},
   "outputs": [
    {
     "name": "stdout",
     "output_type": "stream",
     "text": [
      "[20 22 24 26 28 30 32 34]\n"
     ]
    }
   ],
   "source": [
    "eveArr=np.arange(20,35,2)\n",
    "print(eveArr)"
   ]
  },
  {
   "cell_type": "markdown",
   "id": "5c5c5dda",
   "metadata": {},
   "source": [
    "Create a 3x3 matrix with values ranging from 0 to 8"
   ]
  },
  {
   "cell_type": "code",
   "execution_count": 12,
   "id": "9c935917",
   "metadata": {},
   "outputs": [
    {
     "name": "stdout",
     "output_type": "stream",
     "text": [
      "[[0 1 2]\n",
      " [3 4 5]\n",
      " [6 7 8]]\n"
     ]
    }
   ],
   "source": [
    "m=np.arange(0, 9).reshape(3,3)\n",
    "print(m)"
   ]
  },
  {
   "cell_type": "markdown",
   "id": "aa68b0c8",
   "metadata": {},
   "source": [
    "Concatinate a and b"
   ]
  },
  {
   "cell_type": "markdown",
   "id": "97a539ec",
   "metadata": {},
   "source": [
    "a = np.array([1, 2, 3]), b = np.array([4, 5, 6])"
   ]
  },
  {
   "cell_type": "code",
   "execution_count": 13,
   "id": "c0f12275",
   "metadata": {},
   "outputs": [
    {
     "name": "stdout",
     "output_type": "stream",
     "text": [
      "[1 2 3 4 5 6]\n"
     ]
    }
   ],
   "source": [
    "a=np.array([1,2,3])\n",
    "b=np.array([4,5,6])\n",
    "ccMatrix=np.concatenate((a,b),axis=None)\n",
    "print(ccMatrix)"
   ]
  },
  {
   "cell_type": "markdown",
   "id": "0f5657ee",
   "metadata": {},
   "source": [
    "Pandas"
   ]
  },
  {
   "cell_type": "markdown",
   "id": "af78a3ba",
   "metadata": {},
   "source": [
    "Create a dataframe with 3 rows and 2 columns"
   ]
  },
  {
   "cell_type": "code",
   "execution_count": 16,
   "id": "ac77ede7",
   "metadata": {},
   "outputs": [],
   "source": [
    "import pandas as pd"
   ]
  },
  {
   "cell_type": "code",
   "execution_count": 17,
   "id": "4167899d",
   "metadata": {},
   "outputs": [
    {
     "data": {
      "text/html": [
       "<div>\n",
       "<style scoped>\n",
       "    .dataframe tbody tr th:only-of-type {\n",
       "        vertical-align: middle;\n",
       "    }\n",
       "\n",
       "    .dataframe tbody tr th {\n",
       "        vertical-align: top;\n",
       "    }\n",
       "\n",
       "    .dataframe thead th {\n",
       "        text-align: right;\n",
       "    }\n",
       "</style>\n",
       "<table border=\"1\" class=\"dataframe\">\n",
       "  <thead>\n",
       "    <tr style=\"text-align: right;\">\n",
       "      <th></th>\n",
       "      <th>0</th>\n",
       "      <th>1</th>\n",
       "    </tr>\n",
       "  </thead>\n",
       "  <tbody>\n",
       "    <tr>\n",
       "      <th>0</th>\n",
       "      <td>0</td>\n",
       "      <td>1</td>\n",
       "    </tr>\n",
       "    <tr>\n",
       "      <th>1</th>\n",
       "      <td>2</td>\n",
       "      <td>3</td>\n",
       "    </tr>\n",
       "    <tr>\n",
       "      <th>2</th>\n",
       "      <td>4</td>\n",
       "      <td>5</td>\n",
       "    </tr>\n",
       "  </tbody>\n",
       "</table>\n",
       "</div>"
      ],
      "text/plain": [
       "   0  1\n",
       "0  0  1\n",
       "1  2  3\n",
       "2  4  5"
      ]
     },
     "execution_count": 17,
     "metadata": {},
     "output_type": "execute_result"
    }
   ],
   "source": [
    "df=pd.DataFrame(np.arange(0,6).reshape(3,2))\n",
    "df"
   ]
  },
  {
   "cell_type": "markdown",
   "id": "a55c412f",
   "metadata": {},
   "source": [
    "Generate the series of dates from 1st Jan, 2023 to 10th Feb, 2023\n"
   ]
  },
  {
   "cell_type": "code",
   "execution_count": 18,
   "id": "e4e193be",
   "metadata": {},
   "outputs": [
    {
     "data": {
      "text/plain": [
       "0    2023-01-01\n",
       "1    2023-01-02\n",
       "2    2023-01-03\n",
       "3    2023-01-04\n",
       "4    2023-01-05\n",
       "5    2023-01-06\n",
       "6    2023-01-07\n",
       "7    2023-01-08\n",
       "8    2023-01-09\n",
       "9    2023-01-10\n",
       "10   2023-01-11\n",
       "11   2023-01-12\n",
       "12   2023-01-13\n",
       "13   2023-01-14\n",
       "14   2023-01-15\n",
       "15   2023-01-16\n",
       "16   2023-01-17\n",
       "17   2023-01-18\n",
       "18   2023-01-19\n",
       "19   2023-01-20\n",
       "20   2023-01-21\n",
       "21   2023-01-22\n",
       "22   2023-01-23\n",
       "23   2023-01-24\n",
       "24   2023-01-25\n",
       "25   2023-01-26\n",
       "26   2023-01-27\n",
       "27   2023-01-28\n",
       "28   2023-01-29\n",
       "29   2023-01-30\n",
       "30   2023-01-31\n",
       "31   2023-02-01\n",
       "32   2023-02-02\n",
       "33   2023-02-03\n",
       "34   2023-02-04\n",
       "35   2023-02-05\n",
       "36   2023-02-06\n",
       "37   2023-02-07\n",
       "38   2023-02-08\n",
       "39   2023-02-09\n",
       "40   2023-02-10\n",
       "dtype: datetime64[ns]"
      ]
     },
     "execution_count": 18,
     "metadata": {},
     "output_type": "execute_result"
    }
   ],
   "source": [
    "d=pd.date_range(start='1/1/2023', end='2/10/2023')\n",
    "pd.Series(d)"
   ]
  },
  {
   "cell_type": "markdown",
   "id": "c5f55d09",
   "metadata": {},
   "source": [
    "Create 2D list to DataFrame"
   ]
  },
  {
   "cell_type": "markdown",
   "id": "ef1205e6",
   "metadata": {},
   "source": [
    "lists = [[1, 'aaa', 22], [2, 'bbb', 25], [3, 'ccc', 24]]"
   ]
  },
  {
   "cell_type": "code",
   "execution_count": 19,
   "id": "1cb2f61d",
   "metadata": {},
   "outputs": [],
   "source": [
    "lists = [[1, 'aaa', 22], [2, 'bbb', 25], [3, 'ccc', 24]]"
   ]
  },
  {
   "cell_type": "code",
   "execution_count": 20,
   "id": "c3900f8b",
   "metadata": {},
   "outputs": [
    {
     "data": {
      "text/html": [
       "<div>\n",
       "<style scoped>\n",
       "    .dataframe tbody tr th:only-of-type {\n",
       "        vertical-align: middle;\n",
       "    }\n",
       "\n",
       "    .dataframe tbody tr th {\n",
       "        vertical-align: top;\n",
       "    }\n",
       "\n",
       "    .dataframe thead th {\n",
       "        text-align: right;\n",
       "    }\n",
       "</style>\n",
       "<table border=\"1\" class=\"dataframe\">\n",
       "  <thead>\n",
       "    <tr style=\"text-align: right;\">\n",
       "      <th></th>\n",
       "      <th>0</th>\n",
       "      <th>1</th>\n",
       "      <th>2</th>\n",
       "    </tr>\n",
       "  </thead>\n",
       "  <tbody>\n",
       "    <tr>\n",
       "      <th>0</th>\n",
       "      <td>1</td>\n",
       "      <td>aaa</td>\n",
       "      <td>22</td>\n",
       "    </tr>\n",
       "    <tr>\n",
       "      <th>1</th>\n",
       "      <td>2</td>\n",
       "      <td>bbb</td>\n",
       "      <td>25</td>\n",
       "    </tr>\n",
       "    <tr>\n",
       "      <th>2</th>\n",
       "      <td>3</td>\n",
       "      <td>ccc</td>\n",
       "      <td>24</td>\n",
       "    </tr>\n",
       "  </tbody>\n",
       "</table>\n",
       "</div>"
      ],
      "text/plain": [
       "   0    1   2\n",
       "0  1  aaa  22\n",
       "1  2  bbb  25\n",
       "2  3  ccc  24"
      ]
     },
     "execution_count": 20,
     "metadata": {},
     "output_type": "execute_result"
    }
   ],
   "source": [
    "df = pd.DataFrame(lists)\n",
    "df"
   ]
  },
  {
   "cell_type": "code",
   "execution_count": null,
   "id": "1ebd953d",
   "metadata": {},
   "outputs": [],
   "source": []
  }
 ],
 "metadata": {
  "kernelspec": {
   "display_name": "Python 3 (ipykernel)",
   "language": "python",
   "name": "python3"
  },
  "language_info": {
   "codemirror_mode": {
    "name": "ipython",
    "version": 3
   },
   "file_extension": ".py",
   "mimetype": "text/x-python",
   "name": "python",
   "nbconvert_exporter": "python",
   "pygments_lexer": "ipython3",
   "version": "3.9.12"
  }
 },
 "nbformat": 4,
 "nbformat_minor": 5
}
