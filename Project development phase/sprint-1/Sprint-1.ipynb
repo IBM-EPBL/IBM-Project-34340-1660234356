{
 "cells": [
  {
   "cell_type": "markdown",
   "id": "e9464b59",
   "metadata": {},
   "source": [
    "# Importing libraries\n"
   ]
  },
  {
   "cell_type": "code",
   "execution_count": 2,
   "id": "c05cde98",
   "metadata": {},
   "outputs": [],
   "source": [
    "import pandas as pd\n",
    "import numpy as np\n",
    "from collections import Counter as c\n",
    "import matplotlib.pyplot as plt\n",
    "import seaborn as sns\n",
    "import missingno as msno\n",
    "from sklearn.metrics import accuracy_score, confusion_matrix\n",
    "from sklearn.model_selection import train_test_split\n",
    "from sklearn.preprocessing import LabelEncoder \n",
    "from sklearn.linear_model import LogisticRegression\n",
    "import pickle"
   ]
  },
  {
   "cell_type": "code",
   "execution_count": 3,
   "id": "daef1e72",
   "metadata": {},
   "outputs": [],
   "source": [
    "data=pd.read_csv(\"chronickidneydisease.csv\")"
   ]
  },
  {
   "cell_type": "code",
   "execution_count": 4,
   "id": "db21eb35",
   "metadata": {},
   "outputs": [
    {
     "data": {
      "text/html": [
       "<div>\n",
       "<style scoped>\n",
       "    .dataframe tbody tr th:only-of-type {\n",
       "        vertical-align: middle;\n",
       "    }\n",
       "\n",
       "    .dataframe tbody tr th {\n",
       "        vertical-align: top;\n",
       "    }\n",
       "\n",
       "    .dataframe thead th {\n",
       "        text-align: right;\n",
       "    }\n",
       "</style>\n",
       "<table border=\"1\" class=\"dataframe\">\n",
       "  <thead>\n",
       "    <tr style=\"text-align: right;\">\n",
       "      <th></th>\n",
       "      <th>id</th>\n",
       "      <th>age</th>\n",
       "      <th>bp</th>\n",
       "      <th>sg</th>\n",
       "      <th>al</th>\n",
       "      <th>su</th>\n",
       "      <th>rbc</th>\n",
       "      <th>pc</th>\n",
       "      <th>pcc</th>\n",
       "      <th>ba</th>\n",
       "      <th>...</th>\n",
       "      <th>pcv</th>\n",
       "      <th>wc</th>\n",
       "      <th>rc</th>\n",
       "      <th>htn</th>\n",
       "      <th>dm</th>\n",
       "      <th>cad</th>\n",
       "      <th>appet</th>\n",
       "      <th>pe</th>\n",
       "      <th>ane</th>\n",
       "      <th>classification</th>\n",
       "    </tr>\n",
       "  </thead>\n",
       "  <tbody>\n",
       "    <tr>\n",
       "      <th>0</th>\n",
       "      <td>0</td>\n",
       "      <td>48.0</td>\n",
       "      <td>80.0</td>\n",
       "      <td>1.020</td>\n",
       "      <td>1.0</td>\n",
       "      <td>0.0</td>\n",
       "      <td>NaN</td>\n",
       "      <td>normal</td>\n",
       "      <td>notpresent</td>\n",
       "      <td>notpresent</td>\n",
       "      <td>...</td>\n",
       "      <td>44</td>\n",
       "      <td>7800</td>\n",
       "      <td>5.2</td>\n",
       "      <td>yes</td>\n",
       "      <td>yes</td>\n",
       "      <td>no</td>\n",
       "      <td>good</td>\n",
       "      <td>no</td>\n",
       "      <td>no</td>\n",
       "      <td>ckd</td>\n",
       "    </tr>\n",
       "    <tr>\n",
       "      <th>1</th>\n",
       "      <td>1</td>\n",
       "      <td>7.0</td>\n",
       "      <td>50.0</td>\n",
       "      <td>1.020</td>\n",
       "      <td>4.0</td>\n",
       "      <td>0.0</td>\n",
       "      <td>NaN</td>\n",
       "      <td>normal</td>\n",
       "      <td>notpresent</td>\n",
       "      <td>notpresent</td>\n",
       "      <td>...</td>\n",
       "      <td>38</td>\n",
       "      <td>6000</td>\n",
       "      <td>NaN</td>\n",
       "      <td>no</td>\n",
       "      <td>no</td>\n",
       "      <td>no</td>\n",
       "      <td>good</td>\n",
       "      <td>no</td>\n",
       "      <td>no</td>\n",
       "      <td>ckd</td>\n",
       "    </tr>\n",
       "    <tr>\n",
       "      <th>2</th>\n",
       "      <td>2</td>\n",
       "      <td>62.0</td>\n",
       "      <td>80.0</td>\n",
       "      <td>1.010</td>\n",
       "      <td>2.0</td>\n",
       "      <td>3.0</td>\n",
       "      <td>normal</td>\n",
       "      <td>normal</td>\n",
       "      <td>notpresent</td>\n",
       "      <td>notpresent</td>\n",
       "      <td>...</td>\n",
       "      <td>31</td>\n",
       "      <td>7500</td>\n",
       "      <td>NaN</td>\n",
       "      <td>no</td>\n",
       "      <td>yes</td>\n",
       "      <td>no</td>\n",
       "      <td>poor</td>\n",
       "      <td>no</td>\n",
       "      <td>yes</td>\n",
       "      <td>ckd</td>\n",
       "    </tr>\n",
       "    <tr>\n",
       "      <th>3</th>\n",
       "      <td>3</td>\n",
       "      <td>48.0</td>\n",
       "      <td>70.0</td>\n",
       "      <td>1.005</td>\n",
       "      <td>4.0</td>\n",
       "      <td>0.0</td>\n",
       "      <td>normal</td>\n",
       "      <td>abnormal</td>\n",
       "      <td>present</td>\n",
       "      <td>notpresent</td>\n",
       "      <td>...</td>\n",
       "      <td>32</td>\n",
       "      <td>6700</td>\n",
       "      <td>3.9</td>\n",
       "      <td>yes</td>\n",
       "      <td>no</td>\n",
       "      <td>no</td>\n",
       "      <td>poor</td>\n",
       "      <td>yes</td>\n",
       "      <td>yes</td>\n",
       "      <td>ckd</td>\n",
       "    </tr>\n",
       "    <tr>\n",
       "      <th>4</th>\n",
       "      <td>4</td>\n",
       "      <td>51.0</td>\n",
       "      <td>80.0</td>\n",
       "      <td>1.010</td>\n",
       "      <td>2.0</td>\n",
       "      <td>0.0</td>\n",
       "      <td>normal</td>\n",
       "      <td>normal</td>\n",
       "      <td>notpresent</td>\n",
       "      <td>notpresent</td>\n",
       "      <td>...</td>\n",
       "      <td>35</td>\n",
       "      <td>7300</td>\n",
       "      <td>4.6</td>\n",
       "      <td>no</td>\n",
       "      <td>no</td>\n",
       "      <td>no</td>\n",
       "      <td>good</td>\n",
       "      <td>no</td>\n",
       "      <td>no</td>\n",
       "      <td>ckd</td>\n",
       "    </tr>\n",
       "    <tr>\n",
       "      <th>5</th>\n",
       "      <td>5</td>\n",
       "      <td>60.0</td>\n",
       "      <td>90.0</td>\n",
       "      <td>1.015</td>\n",
       "      <td>3.0</td>\n",
       "      <td>0.0</td>\n",
       "      <td>NaN</td>\n",
       "      <td>NaN</td>\n",
       "      <td>notpresent</td>\n",
       "      <td>notpresent</td>\n",
       "      <td>...</td>\n",
       "      <td>39</td>\n",
       "      <td>7800</td>\n",
       "      <td>4.4</td>\n",
       "      <td>yes</td>\n",
       "      <td>yes</td>\n",
       "      <td>no</td>\n",
       "      <td>good</td>\n",
       "      <td>yes</td>\n",
       "      <td>no</td>\n",
       "      <td>ckd</td>\n",
       "    </tr>\n",
       "    <tr>\n",
       "      <th>6</th>\n",
       "      <td>6</td>\n",
       "      <td>68.0</td>\n",
       "      <td>70.0</td>\n",
       "      <td>1.010</td>\n",
       "      <td>0.0</td>\n",
       "      <td>0.0</td>\n",
       "      <td>NaN</td>\n",
       "      <td>normal</td>\n",
       "      <td>notpresent</td>\n",
       "      <td>notpresent</td>\n",
       "      <td>...</td>\n",
       "      <td>36</td>\n",
       "      <td>NaN</td>\n",
       "      <td>NaN</td>\n",
       "      <td>no</td>\n",
       "      <td>no</td>\n",
       "      <td>no</td>\n",
       "      <td>good</td>\n",
       "      <td>no</td>\n",
       "      <td>no</td>\n",
       "      <td>ckd</td>\n",
       "    </tr>\n",
       "    <tr>\n",
       "      <th>7</th>\n",
       "      <td>7</td>\n",
       "      <td>24.0</td>\n",
       "      <td>NaN</td>\n",
       "      <td>1.015</td>\n",
       "      <td>2.0</td>\n",
       "      <td>4.0</td>\n",
       "      <td>normal</td>\n",
       "      <td>abnormal</td>\n",
       "      <td>notpresent</td>\n",
       "      <td>notpresent</td>\n",
       "      <td>...</td>\n",
       "      <td>44</td>\n",
       "      <td>6900</td>\n",
       "      <td>5</td>\n",
       "      <td>no</td>\n",
       "      <td>yes</td>\n",
       "      <td>no</td>\n",
       "      <td>good</td>\n",
       "      <td>yes</td>\n",
       "      <td>no</td>\n",
       "      <td>ckd</td>\n",
       "    </tr>\n",
       "    <tr>\n",
       "      <th>8</th>\n",
       "      <td>8</td>\n",
       "      <td>52.0</td>\n",
       "      <td>100.0</td>\n",
       "      <td>1.015</td>\n",
       "      <td>3.0</td>\n",
       "      <td>0.0</td>\n",
       "      <td>normal</td>\n",
       "      <td>abnormal</td>\n",
       "      <td>present</td>\n",
       "      <td>notpresent</td>\n",
       "      <td>...</td>\n",
       "      <td>33</td>\n",
       "      <td>9600</td>\n",
       "      <td>4.0</td>\n",
       "      <td>yes</td>\n",
       "      <td>yes</td>\n",
       "      <td>no</td>\n",
       "      <td>good</td>\n",
       "      <td>no</td>\n",
       "      <td>yes</td>\n",
       "      <td>ckd</td>\n",
       "    </tr>\n",
       "    <tr>\n",
       "      <th>9</th>\n",
       "      <td>9</td>\n",
       "      <td>53.0</td>\n",
       "      <td>90.0</td>\n",
       "      <td>1.020</td>\n",
       "      <td>2.0</td>\n",
       "      <td>0.0</td>\n",
       "      <td>abnormal</td>\n",
       "      <td>abnormal</td>\n",
       "      <td>present</td>\n",
       "      <td>notpresent</td>\n",
       "      <td>...</td>\n",
       "      <td>29</td>\n",
       "      <td>12100</td>\n",
       "      <td>3.7</td>\n",
       "      <td>yes</td>\n",
       "      <td>yes</td>\n",
       "      <td>no</td>\n",
       "      <td>poor</td>\n",
       "      <td>no</td>\n",
       "      <td>yes</td>\n",
       "      <td>ckd</td>\n",
       "    </tr>\n",
       "  </tbody>\n",
       "</table>\n",
       "<p>10 rows × 26 columns</p>\n",
       "</div>"
      ],
      "text/plain": [
       "   id   age     bp     sg   al   su       rbc        pc         pcc  \\\n",
       "0   0  48.0   80.0  1.020  1.0  0.0       NaN    normal  notpresent   \n",
       "1   1   7.0   50.0  1.020  4.0  0.0       NaN    normal  notpresent   \n",
       "2   2  62.0   80.0  1.010  2.0  3.0    normal    normal  notpresent   \n",
       "3   3  48.0   70.0  1.005  4.0  0.0    normal  abnormal     present   \n",
       "4   4  51.0   80.0  1.010  2.0  0.0    normal    normal  notpresent   \n",
       "5   5  60.0   90.0  1.015  3.0  0.0       NaN       NaN  notpresent   \n",
       "6   6  68.0   70.0  1.010  0.0  0.0       NaN    normal  notpresent   \n",
       "7   7  24.0    NaN  1.015  2.0  4.0    normal  abnormal  notpresent   \n",
       "8   8  52.0  100.0  1.015  3.0  0.0    normal  abnormal     present   \n",
       "9   9  53.0   90.0  1.020  2.0  0.0  abnormal  abnormal     present   \n",
       "\n",
       "           ba  ...  pcv     wc   rc  htn   dm  cad appet   pe  ane  \\\n",
       "0  notpresent  ...   44   7800  5.2  yes  yes   no  good   no   no   \n",
       "1  notpresent  ...   38   6000  NaN   no   no   no  good   no   no   \n",
       "2  notpresent  ...   31   7500  NaN   no  yes   no  poor   no  yes   \n",
       "3  notpresent  ...   32   6700  3.9  yes   no   no  poor  yes  yes   \n",
       "4  notpresent  ...   35   7300  4.6   no   no   no  good   no   no   \n",
       "5  notpresent  ...   39   7800  4.4  yes  yes   no  good  yes   no   \n",
       "6  notpresent  ...   36    NaN  NaN   no   no   no  good   no   no   \n",
       "7  notpresent  ...   44   6900    5   no  yes   no  good  yes   no   \n",
       "8  notpresent  ...   33   9600  4.0  yes  yes   no  good   no  yes   \n",
       "9  notpresent  ...   29  12100  3.7  yes  yes   no  poor   no  yes   \n",
       "\n",
       "  classification  \n",
       "0            ckd  \n",
       "1            ckd  \n",
       "2            ckd  \n",
       "3            ckd  \n",
       "4            ckd  \n",
       "5            ckd  \n",
       "6            ckd  \n",
       "7            ckd  \n",
       "8            ckd  \n",
       "9            ckd  \n",
       "\n",
       "[10 rows x 26 columns]"
      ]
     },
     "execution_count": 4,
     "metadata": {},
     "output_type": "execute_result"
    }
   ],
   "source": [
    "data.head()\n",
    "data.tail()\n",
    "data.head(10)"
   ]
  },
  {
   "cell_type": "code",
   "execution_count": 5,
   "id": "4264e094",
   "metadata": {},
   "outputs": [],
   "source": [
    "data.drop([\"id\"],axis=1,inplace=True)"
   ]
  },
  {
   "cell_type": "code",
   "execution_count": 6,
   "id": "883a8ad7",
   "metadata": {},
   "outputs": [
    {
     "data": {
      "text/plain": [
       "Index(['age', 'bp', 'sg', 'al', 'su', 'rbc', 'pc', 'pcc', 'ba', 'bgr', 'bu',\n",
       "       'sc', 'sod', 'pot', 'hemo', 'pcv', 'wc', 'rc', 'htn', 'dm', 'cad',\n",
       "       'appet', 'pe', 'ane', 'classification'],\n",
       "      dtype='object')"
      ]
     },
     "execution_count": 6,
     "metadata": {},
     "output_type": "execute_result"
    }
   ],
   "source": [
    "data.columns"
   ]
  },
  {
   "cell_type": "code",
   "execution_count": 7,
   "id": "dc14c9fc",
   "metadata": {},
   "outputs": [],
   "source": [
    "data.columns=['age','blood_pressure','specific_gravity','albumin','sugar','red_blood_cells','pus_cell','pus_cell_clumps','bacteria',\n",
    "             'blood glucose random','blood_urea','serum_creatinine','sodium','potassium','hemoglobin','packed_cell_volume','white_blood_cell_count',\n",
    "             'red_blood_cell_count','hypertension','diabetesmellitus','coronary_artery_disease','appetite','pedal_edema','anemia','class']"
   ]
  },
  {
   "cell_type": "code",
   "execution_count": 8,
   "id": "7f8be079",
   "metadata": {},
   "outputs": [
    {
     "data": {
      "text/plain": [
       "Index(['age', 'blood_pressure', 'specific_gravity', 'albumin', 'sugar',\n",
       "       'red_blood_cells', 'pus_cell', 'pus_cell_clumps', 'bacteria',\n",
       "       'blood glucose random', 'blood_urea', 'serum_creatinine', 'sodium',\n",
       "       'potassium', 'hemoglobin', 'packed_cell_volume',\n",
       "       'white_blood_cell_count', 'red_blood_cell_count', 'hypertension',\n",
       "       'diabetesmellitus', 'coronary_artery_disease', 'appetite',\n",
       "       'pedal_edema', 'anemia', 'class'],\n",
       "      dtype='object')"
      ]
     },
     "execution_count": 8,
     "metadata": {},
     "output_type": "execute_result"
    }
   ],
   "source": [
    "data.columns"
   ]
  },
  {
   "cell_type": "code",
   "execution_count": 9,
   "id": "a64897d8",
   "metadata": {},
   "outputs": [
    {
     "name": "stdout",
     "output_type": "stream",
     "text": [
      "<class 'pandas.core.frame.DataFrame'>\n",
      "RangeIndex: 400 entries, 0 to 399\n",
      "Data columns (total 25 columns):\n",
      " #   Column                   Non-Null Count  Dtype  \n",
      "---  ------                   --------------  -----  \n",
      " 0   age                      391 non-null    float64\n",
      " 1   blood_pressure           388 non-null    float64\n",
      " 2   specific_gravity         353 non-null    float64\n",
      " 3   albumin                  354 non-null    float64\n",
      " 4   sugar                    351 non-null    float64\n",
      " 5   red_blood_cells          248 non-null    object \n",
      " 6   pus_cell                 335 non-null    object \n",
      " 7   pus_cell_clumps          396 non-null    object \n",
      " 8   bacteria                 396 non-null    object \n",
      " 9   blood glucose random     356 non-null    float64\n",
      " 10  blood_urea               381 non-null    float64\n",
      " 11  serum_creatinine         383 non-null    float64\n",
      " 12  sodium                   313 non-null    float64\n",
      " 13  potassium                312 non-null    float64\n",
      " 14  hemoglobin               348 non-null    float64\n",
      " 15  packed_cell_volume       330 non-null    object \n",
      " 16  white_blood_cell_count   295 non-null    object \n",
      " 17  red_blood_cell_count     270 non-null    object \n",
      " 18  hypertension             398 non-null    object \n",
      " 19  diabetesmellitus         398 non-null    object \n",
      " 20  coronary_artery_disease  398 non-null    object \n",
      " 21  appetite                 399 non-null    object \n",
      " 22  pedal_edema              399 non-null    object \n",
      " 23  anemia                   399 non-null    object \n",
      " 24  class                    400 non-null    object \n",
      "dtypes: float64(11), object(14)\n",
      "memory usage: 78.2+ KB\n"
     ]
    }
   ],
   "source": [
    "data.info()"
   ]
  },
  {
   "cell_type": "markdown",
   "id": "d458e637",
   "metadata": {},
   "source": [
    "# Target Column"
   ]
  },
  {
   "cell_type": "code",
   "execution_count": 10,
   "id": "abed5df3",
   "metadata": {},
   "outputs": [
    {
     "data": {
      "text/plain": [
       "array(['ckd', 'ckd\\t', 'notckd'], dtype=object)"
      ]
     },
     "execution_count": 10,
     "metadata": {},
     "output_type": "execute_result"
    }
   ],
   "source": [
    "data['class'].unique()"
   ]
  },
  {
   "cell_type": "code",
   "execution_count": 11,
   "id": "29f47c97",
   "metadata": {},
   "outputs": [
    {
     "data": {
      "text/plain": [
       "array(['ckd', 'notckd'], dtype=object)"
      ]
     },
     "execution_count": 11,
     "metadata": {},
     "output_type": "execute_result"
    }
   ],
   "source": [
    "data['class']=data['class'].replace(\"ckd\\t\",\"ckd\")\n",
    "data['class'].unique()"
   ]
  },
  {
   "cell_type": "code",
   "execution_count": 22,
   "id": "78715348",
   "metadata": {},
   "outputs": [
    {
     "name": "stdout",
     "output_type": "stream",
     "text": [
      "{'red_blood_cells', 'hemoglobin', 'appetite', 'white_blood_cell_count', 'specific_gravity', 'serum_creatinine', 'hypertension', 'anemia', 'packed_cell_volume', 'coronary_artery_disease', 'bacteria', 'blood_pressure', 'sodium', 'potassium', 'pedal_edema', 'age', 'diabetesmellitus', 'pus_cell_clumps', 'pus_cell', 'sugar', 'blood_urea', 'blood glucose random', 'red_blood_cell_count', 'albumin', 'class'}\n"
     ]
    }
   ],
   "source": [
    "catcols=set(data.dtypes[data.dtypes!='0'].index.values)\n",
    "print(catcols)"
   ]
  },
  {
   "cell_type": "code",
   "execution_count": 14,
   "id": "dcb75057",
   "metadata": {},
   "outputs": [],
   "source": [
    "for i in catcols:\n",
    "    print(\"Columns: \",i)\n",
    "    print(c(data[i]))\n",
    "    print('*'*120+'\\n')"
   ]
  },
  {
   "cell_type": "markdown",
   "id": "3c7e2c1b",
   "metadata": {},
   "source": [
    "# Removing the columns which are not categorical"
   ]
  },
  {
   "cell_type": "code",
   "execution_count": 23,
   "id": "484bf2bc",
   "metadata": {},
   "outputs": [
    {
     "name": "stdout",
     "output_type": "stream",
     "text": [
      "{'red_blood_cells', 'hemoglobin', 'appetite', 'specific_gravity', 'serum_creatinine', 'hypertension', 'anemia', 'coronary_artery_disease', 'bacteria', 'blood_pressure', 'sodium', 'potassium', 'pedal_edema', 'age', 'diabetesmellitus', 'pus_cell_clumps', 'pus_cell', 'sugar', 'blood_urea', 'blood glucose random', 'albumin', 'class'}\n"
     ]
    }
   ],
   "source": [
    "catcols.remove('red_blood_cell_count')\n",
    "catcols.remove('packed_cell_volume')\n",
    "catcols.remove('white_blood_cell_count')\n",
    "print(catcols)"
   ]
  },
  {
   "cell_type": "markdown",
   "id": "a743c6d5",
   "metadata": {},
   "source": [
    "# Numerical columns"
   ]
  },
  {
   "cell_type": "code",
   "execution_count": 16,
   "id": "ad1d3194",
   "metadata": {},
   "outputs": [
    {
     "name": "stdout",
     "output_type": "stream",
     "text": [
      "{'red_blood_cells', 'hemoglobin', 'appetite', 'white_blood_cell_count', 'specific_gravity', 'serum_creatinine', 'hypertension', 'anemia', 'packed_cell_volume', 'coronary_artery_disease', 'bacteria', 'blood_pressure', 'sodium', 'potassium', 'pedal_edema', 'age', 'diabetesmellitus', 'pus_cell_clumps', 'pus_cell', 'sugar', 'blood_urea', 'blood glucose random', 'red_blood_cell_count', 'albumin', 'class'}\n"
     ]
    }
   ],
   "source": [
    "contcols=set(data.dtypes[data.dtypes!='0'].index.values)\n",
    "print(contcols)"
   ]
  },
  {
   "cell_type": "code",
   "execution_count": 24,
   "id": "fd5646eb",
   "metadata": {},
   "outputs": [
    {
     "name": "stdout",
     "output_type": "stream",
     "text": [
      "Continous Columns: red_blood_cells\n",
      "Counter({'normal': 201, nan: 152, 'abnormal': 47})\n",
      "************************************************************************************************************************\n",
      "\n",
      "Continous Columns: hemoglobin\n",
      "Counter({15.0: 16, 10.9: 8, 9.8: 7, 11.1: 7, 13.0: 7, 13.6: 7, 11.3: 6, 10.3: 6, 12.0: 6, 13.9: 6, 15.4: 5, 11.2: 5, 10.8: 5, 9.7: 5, 12.6: 5, 7.9: 5, 10.0: 5, 14.0: 5, 14.3: 5, 14.8: 5, 12.2: 4, 12.4: 4, 12.5: 4, 15.2: 4, 9.1: 4, 11.9: 4, 13.5: 4, 16.1: 4, 14.1: 4, 13.2: 4, 13.8: 4, 13.7: 4, 13.4: 4, 17.0: 4, 15.5: 4, 15.8: 4, 9.6: 3, 11.6: 3, 9.5: 3, 9.4: 3, 12.7: 3, 9.9: 3, 10.1: 3, 8.6: 3, 11.0: 3, 15.6: 3, 8.1: 3, 8.3: 3, 10.4: 3, 11.8: 3, 11.4: 3, 11.5: 3, 15.9: 3, 14.5: 3, 16.2: 3, 14.4: 3, 14.2: 3, 16.3: 3, 16.5: 3, 15.7: 3, 16.4: 3, 14.9: 3, 15.3: 3, 17.8: 3, 12.1: 2, 9.3: 2, 10.2: 2, 10.5: 2, 6.0: 2, 11.7: 2, 8.0: 2, 12.3: 2, 8.7: 2, 13.1: 2, 8.8: 2, 13.3: 2, 14.6: 2, 16.9: 2, 16.0: 2, 14.7: 2, 16.6: 2, 16.7: 2, 16.8: 2, 15.1: 2, 17.1: 2, 17.2: 2, 17.4: 2, 5.6: 1, 7.6: 1, 7.7: 1, nan: 1, nan: 1, 12.9: 1, nan: 1, nan: 1, nan: 1, nan: 1, 6.6: 1, nan: 1, nan: 1, 7.5: 1, nan: 1, nan: 1, 4.8: 1, nan: 1, nan: 1, 7.1: 1, nan: 1, nan: 1, nan: 1, 9.2: 1, nan: 1, 6.2: 1, nan: 1, nan: 1, nan: 1, nan: 1, nan: 1, nan: 1, 8.2: 1, nan: 1, nan: 1, 6.1: 1, nan: 1, nan: 1, nan: 1, nan: 1, 8.4: 1, nan: 1, 9.0: 1, nan: 1, nan: 1, 10.6: 1, nan: 1, nan: 1, nan: 1, 10.7: 1, nan: 1, 5.5: 1, nan: 1, 5.8: 1, 6.8: 1, 8.5: 1, 7.3: 1, nan: 1, nan: 1, 12.8: 1, nan: 1, nan: 1, nan: 1, nan: 1, nan: 1, nan: 1, nan: 1, 6.3: 1, nan: 1, 3.1: 1, nan: 1, 17.3: 1, nan: 1, nan: 1, nan: 1, nan: 1, 17.7: 1, 17.5: 1, nan: 1, 17.6: 1})\n",
      "************************************************************************************************************************\n",
      "\n",
      "Continous Columns: appetite\n",
      "Counter({'good': 317, 'poor': 82, nan: 1})\n",
      "************************************************************************************************************************\n",
      "\n",
      "Continous Columns: white_blood_cell_count\n",
      "Counter({nan: 105, '9800': 11, '6700': 10, '9600': 9, '9200': 9, '7200': 9, '6900': 8, '11000': 8, '5800': 8, '7800': 7, '9100': 7, '9400': 7, '7000': 7, '4300': 6, '6300': 6, '10700': 6, '10500': 6, '7500': 5, '8300': 5, '7900': 5, '8600': 5, '5600': 5, '10200': 5, '5000': 5, '8100': 5, '9500': 5, '6000': 4, '6200': 4, '10300': 4, '7700': 4, '5500': 4, '10400': 4, '6800': 4, '6500': 4, '4700': 4, '7300': 3, '4500': 3, '8400': 3, '6400': 3, '4200': 3, '7400': 3, '8000': 3, '5400': 3, '3800': 2, '11400': 2, '5300': 2, '8500': 2, '14600': 2, '7100': 2, '13200': 2, '9000': 2, '8200': 2, '15200': 2, '12400': 2, '12800': 2, '8800': 2, '5700': 2, '9300': 2, '6600': 2, '12100': 1, '12200': 1, '18900': 1, '21600': 1, '11300': 1, '\\t6200': 1, '11800': 1, '12500': 1, '11900': 1, '12700': 1, '13600': 1, '14900': 1, '16300': 1, '\\t8400': 1, '10900': 1, '2200': 1, '11200': 1, '19100': 1, '\\t?': 1, '12300': 1, '16700': 1, '2600': 1, '26400': 1, '4900': 1, '12000': 1, '15700': 1, '4100': 1, '11500': 1, '10800': 1, '9900': 1, '5200': 1, '5900': 1, '9700': 1, '5100': 1})\n",
      "************************************************************************************************************************\n",
      "\n",
      "Continous Columns: specific_gravity\n",
      "Counter({1.02: 106, 1.01: 84, 1.025: 81, 1.015: 75, 1.005: 7, nan: 1, nan: 1, nan: 1, nan: 1, nan: 1, nan: 1, nan: 1, nan: 1, nan: 1, nan: 1, nan: 1, nan: 1, nan: 1, nan: 1, nan: 1, nan: 1, nan: 1, nan: 1, nan: 1, nan: 1, nan: 1, nan: 1, nan: 1, nan: 1, nan: 1, nan: 1, nan: 1, nan: 1, nan: 1, nan: 1, nan: 1, nan: 1, nan: 1, nan: 1, nan: 1, nan: 1, nan: 1, nan: 1, nan: 1, nan: 1, nan: 1, nan: 1, nan: 1, nan: 1, nan: 1, nan: 1, nan: 1})\n",
      "************************************************************************************************************************\n",
      "\n",
      "Continous Columns: serum_creatinine\n",
      "Counter({1.2: 40, 1.1: 24, 1.0: 23, 0.5: 23, 0.7: 22, 0.9: 22, 0.6: 18, 0.8: 17, 2.2: 10, 1.5: 9, 1.7: 9, 1.3: 8, 1.6: 8, 1.8: 7, 1.4: 7, 2.5: 7, 2.8: 7, 1.9: 6, 2.7: 5, 2.1: 5, 2.0: 5, 3.2: 5, 3.3: 5, 3.9: 4, 7.3: 4, 4.0: 3, 2.4: 3, 3.4: 3, 2.9: 3, 5.3: 3, 2.3: 3, 7.2: 2, 4.6: 2, 4.1: 2, 5.2: 2, 6.3: 2, 3.0: 2, 6.1: 2, 6.7: 2, 5.6: 2, 6.5: 2, 4.4: 2, 6.0: 2, 3.8: 1, 24.0: 1, 9.6: 1, 76.0: 1, 7.7: 1, nan: 1, 10.8: 1, 5.9: 1, 3.25: 1, nan: 1, 9.7: 1, 6.4: 1, 32.0: 1, nan: 1, nan: 1, 8.5: 1, 15.0: 1, 3.6: 1, 10.2: 1, 11.5: 1, nan: 1, 12.2: 1, 9.2: 1, 13.8: 1, 16.9: 1, 7.1: 1, 18.0: 1, 13.0: 1, 48.1: 1, 14.2: 1, 16.4: 1, nan: 1, nan: 1, 2.6: 1, 7.5: 1, 4.3: 1, 18.1: 1, 11.8: 1, 9.3: 1, 6.8: 1, 13.5: 1, nan: 1, 12.8: 1, 11.9: 1, nan: 1, nan: 1, nan: 1, 12.0: 1, nan: 1, 13.4: 1, 15.2: 1, 13.3: 1, nan: 1, nan: 1, nan: 1, nan: 1, nan: 1, 0.4: 1})\n",
      "************************************************************************************************************************\n",
      "\n",
      "Continous Columns: hypertension\n",
      "Counter({'no': 251, 'yes': 147, nan: 2})\n",
      "************************************************************************************************************************\n",
      "\n",
      "Continous Columns: anemia\n",
      "Counter({'no': 339, 'yes': 60, nan: 1})\n",
      "************************************************************************************************************************\n",
      "\n",
      "Continous Columns: packed_cell_volume\n",
      "Counter({nan: 70, '52': 21, '41': 21, '44': 19, '48': 19, '40': 16, '43': 14, '45': 13, '42': 13, '32': 12, '36': 12, '33': 12, '28': 12, '50': 12, '37': 11, '34': 11, '35': 9, '29': 9, '30': 9, '46': 9, '31': 8, '39': 7, '24': 7, '26': 6, '38': 5, '47': 4, '49': 4, '53': 4, '51': 4, '54': 4, '27': 3, '22': 3, '25': 3, '23': 2, '19': 2, '16': 1, '\\t?': 1, '14': 1, '18': 1, '17': 1, '15': 1, '21': 1, '20': 1, '\\t43': 1, '9': 1})\n",
      "************************************************************************************************************************\n",
      "\n",
      "Continous Columns: coronary_artery_disease\n",
      "Counter({'no': 362, 'yes': 34, '\\tno': 2, nan: 2})\n",
      "************************************************************************************************************************\n",
      "\n",
      "Continous Columns: bacteria\n",
      "Counter({'notpresent': 374, 'present': 22, nan: 4})\n",
      "************************************************************************************************************************\n",
      "\n",
      "Continous Columns: blood_pressure\n",
      "Counter({80.0: 116, 70.0: 112, 60.0: 71, 90.0: 53, 100.0: 25, 50.0: 5, 110.0: 3, nan: 1, nan: 1, 140.0: 1, 180.0: 1, nan: 1, nan: 1, nan: 1, nan: 1, nan: 1, nan: 1, nan: 1, 120.0: 1, nan: 1, nan: 1, nan: 1})\n",
      "************************************************************************************************************************\n",
      "\n",
      "Continous Columns: sodium\n",
      "Counter({135.0: 40, 140.0: 25, 141.0: 22, 139.0: 21, 142.0: 20, 138.0: 20, 137.0: 19, 136.0: 17, 150.0: 17, 147.0: 13, 145.0: 11, 132.0: 10, 146.0: 10, 131.0: 9, 144.0: 9, 133.0: 8, 130.0: 7, 134.0: 6, 143.0: 4, 127.0: 3, 124.0: 3, 114.0: 2, 125.0: 2, 128.0: 2, 122.0: 2, 113.0: 2, 120.0: 2, nan: 1, nan: 1, nan: 1, 111.0: 1, nan: 1, 104.0: 1, nan: 1, nan: 1, nan: 1, nan: 1, 4.5: 1, nan: 1, 129.0: 1, nan: 1, nan: 1, nan: 1, nan: 1, nan: 1, nan: 1, nan: 1, nan: 1, nan: 1, nan: 1, nan: 1, nan: 1, nan: 1, 163.0: 1, nan: 1, nan: 1, nan: 1, nan: 1, nan: 1, nan: 1, nan: 1, nan: 1, nan: 1, nan: 1, nan: 1, nan: 1, nan: 1, nan: 1, nan: 1, nan: 1, nan: 1, nan: 1, nan: 1, nan: 1, nan: 1, nan: 1, nan: 1, nan: 1, nan: 1, 126.0: 1, nan: 1, nan: 1, nan: 1, nan: 1, nan: 1, nan: 1, nan: 1, nan: 1, nan: 1, nan: 1, 115.0: 1, nan: 1, nan: 1, nan: 1, nan: 1, nan: 1, nan: 1, nan: 1, nan: 1, nan: 1, nan: 1, nan: 1, nan: 1, nan: 1, nan: 1, nan: 1, nan: 1, nan: 1, nan: 1, nan: 1, nan: 1, nan: 1, nan: 1, nan: 1, nan: 1, nan: 1, nan: 1, nan: 1, nan: 1, nan: 1, nan: 1})\n",
      "************************************************************************************************************************\n",
      "\n",
      "Continous Columns: potassium\n",
      "Counter({5.0: 30, 3.5: 30, 4.9: 27, 4.7: 17, 4.8: 16, 4.0: 14, 4.2: 14, 4.1: 14, 3.8: 14, 3.9: 14, 4.4: 14, 4.5: 13, 3.7: 12, 4.3: 12, 3.6: 8, 4.6: 7, 3.4: 5, 5.2: 5, 5.7: 4, 5.3: 4, 3.2: 3, 5.5: 3, 2.9: 3, 5.4: 3, 6.3: 3, 3.3: 3, 2.5: 2, 5.8: 2, 5.9: 2, 5.6: 2, 3.0: 2, 6.5: 2, nan: 1, nan: 1, nan: 1, nan: 1, nan: 1, nan: 1, nan: 1, 6.4: 1, nan: 1, nan: 1, nan: 1, nan: 1, nan: 1, nan: 1, nan: 1, nan: 1, nan: 1, nan: 1, nan: 1, nan: 1, nan: 1, nan: 1, nan: 1, nan: 1, 6.6: 1, 39.0: 1, nan: 1, nan: 1, nan: 1, nan: 1, nan: 1, nan: 1, nan: 1, 7.6: 1, nan: 1, nan: 1, nan: 1, nan: 1, nan: 1, nan: 1, nan: 1, nan: 1, nan: 1, nan: 1, nan: 1, nan: 1, nan: 1, nan: 1, nan: 1, nan: 1, nan: 1, 47.0: 1, nan: 1, 5.1: 1, nan: 1, nan: 1, nan: 1, nan: 1, nan: 1, nan: 1, nan: 1, nan: 1, nan: 1, nan: 1, 2.8: 1, nan: 1, nan: 1, nan: 1, nan: 1, 2.7: 1, nan: 1, nan: 1, nan: 1, nan: 1, nan: 1, nan: 1, nan: 1, nan: 1, nan: 1, nan: 1, nan: 1, nan: 1, nan: 1, nan: 1, nan: 1, nan: 1, nan: 1, nan: 1, nan: 1, nan: 1, nan: 1, nan: 1, nan: 1, nan: 1, nan: 1, nan: 1})\n",
      "************************************************************************************************************************\n",
      "\n",
      "Continous Columns: pedal_edema\n",
      "Counter({'no': 323, 'yes': 76, nan: 1})\n",
      "************************************************************************************************************************\n",
      "\n",
      "Continous Columns: age\n",
      "Counter({60.0: 19, 65.0: 17, 48.0: 12, 50.0: 12, 55.0: 12, 47.0: 11, 62.0: 10, 45.0: 10, 54.0: 10, 59.0: 10, 56.0: 10, 61.0: 9, 70.0: 9, 46.0: 9, 34.0: 9, 68.0: 8, 73.0: 8, 64.0: 8, 71.0: 8, 57.0: 8, 63.0: 7, 72.0: 7, 67.0: 7, 30.0: 7, 42.0: 6, 69.0: 6, 35.0: 6, 44.0: 6, 43.0: 6, 33.0: 6, 51.0: 5, 52.0: 5, 53.0: 5, 75.0: 5, 76.0: 5, 58.0: 5, 41.0: 5, 66.0: 5, 24.0: 4, 40.0: 4, 39.0: 4, 80.0: 4, 23.0: 4, 74.0: 3, 38.0: 3, 17.0: 3, 8.0: 3, 32.0: 3, 37.0: 3, 25.0: 3, 29.0: 3, 21.0: 2, 15.0: 2, 5.0: 2, 12.0: 2, 49.0: 2, 19.0: 2, 36.0: 2, 20.0: 2, 28.0: 2, 7.0: 1, nan: 1, 82.0: 1, 11.0: 1, 26.0: 1, nan: 1, nan: 1, nan: 1, nan: 1, 81.0: 1, 14.0: 1, 27.0: 1, nan: 1, 83.0: 1, 4.0: 1, 3.0: 1, 6.0: 1, nan: 1, 90.0: 1, 78.0: 1, nan: 1, 2.0: 1, nan: 1, 22.0: 1, 79.0: 1})\n",
      "************************************************************************************************************************\n",
      "\n",
      "Continous Columns: diabetesmellitus\n",
      "Counter({'no': 258, 'yes': 134, '\\tno': 3, '\\tyes': 2, nan: 2, ' yes': 1})\n",
      "************************************************************************************************************************\n",
      "\n",
      "Continous Columns: pus_cell_clumps\n",
      "Counter({'notpresent': 354, 'present': 42, nan: 4})\n",
      "************************************************************************************************************************\n",
      "\n",
      "Continous Columns: pus_cell\n",
      "Counter({'normal': 259, 'abnormal': 76, nan: 65})\n",
      "************************************************************************************************************************\n",
      "\n",
      "Continous Columns: sugar\n",
      "Counter({0.0: 290, 2.0: 18, 3.0: 14, 4.0: 13, 1.0: 13, 5.0: 3, nan: 1, nan: 1, nan: 1, nan: 1, nan: 1, nan: 1, nan: 1, nan: 1, nan: 1, nan: 1, nan: 1, nan: 1, nan: 1, nan: 1, nan: 1, nan: 1, nan: 1, nan: 1, nan: 1, nan: 1, nan: 1, nan: 1, nan: 1, nan: 1, nan: 1, nan: 1, nan: 1, nan: 1, nan: 1, nan: 1, nan: 1, nan: 1, nan: 1, nan: 1, nan: 1, nan: 1, nan: 1, nan: 1, nan: 1, nan: 1, nan: 1, nan: 1, nan: 1, nan: 1, nan: 1, nan: 1, nan: 1, nan: 1, nan: 1})\n",
      "************************************************************************************************************************\n",
      "\n",
      "Continous Columns: blood_urea\n",
      "Counter({46.0: 15, 25.0: 13, 19.0: 11, 40.0: 10, 18.0: 9, 50.0: 9, 15.0: 9, 48.0: 9, 26.0: 8, 27.0: 8, 32.0: 8, 49.0: 8, 36.0: 7, 28.0: 7, 20.0: 7, 17.0: 7, 38.0: 7, 16.0: 7, 30.0: 7, 44.0: 7, 31.0: 6, 45.0: 6, 39.0: 6, 29.0: 6, 24.0: 6, 37.0: 6, 22.0: 6, 23.0: 6, 53.0: 5, 55.0: 5, 33.0: 5, 66.0: 5, 35.0: 5, 42.0: 5, 47.0: 4, 51.0: 4, 34.0: 4, 68.0: 4, 41.0: 4, 60.0: 3, 107.0: 3, 80.0: 3, 96.0: 3, 52.0: 3, 106.0: 3, 125.0: 3, 56.0: 2, 54.0: 2, 72.0: 2, 86.0: 2, 90.0: 2, 87.0: 2, 155.0: 2, 153.0: 2, 77.0: 2, 89.0: 2, 111.0: 2, 73.0: 2, 98.0: 2, 82.0: 2, 132.0: 2, 58.0: 2, 10.0: 2, 162.0: 1, 148.0: 1, 180.0: 1, 163.0: 1, nan: 1, 75.0: 1, 65.0: 1, 103.0: 1, 70.0: 1, 202.0: 1, 114.0: 1, nan: 1, nan: 1, 164.0: 1, 142.0: 1, 391.0: 1, nan: 1, nan: 1, 92.0: 1, 139.0: 1, 85.0: 1, 186.0: 1, 217.0: 1, 88.0: 1, 118.0: 1, 50.1: 1, 71.0: 1, nan: 1, 21.0: 1, 219.0: 1, 166.0: 1, 208.0: 1, 176.0: 1, nan: 1, 145.0: 1, 165.0: 1, 322.0: 1, 235.0: 1, 76.0: 1, nan: 1, nan: 1, 113.0: 1, 1.5: 1, 146.0: 1, 133.0: 1, 137.0: 1, 67.0: 1, 115.0: 1, 223.0: 1, 98.6: 1, 158.0: 1, 94.0: 1, 74.0: 1, nan: 1, 150.0: 1, nan: 1, 61.0: 1, 57.0: 1, nan: 1, 95.0: 1, 191.0: 1, nan: 1, 93.0: 1, 241.0: 1, 64.0: 1, 79.0: 1, 215.0: 1, 309.0: 1, nan: 1, nan: 1, nan: 1, nan: 1, nan: 1, nan: 1})\n",
      "************************************************************************************************************************\n",
      "\n",
      "Continous Columns: blood glucose random\n",
      "Counter({99.0: 10, 100.0: 9, 93.0: 9, 107.0: 8, 117.0: 6, 140.0: 6, 92.0: 6, 109.0: 6, 131.0: 6, 130.0: 6, 70.0: 5, 114.0: 5, 95.0: 5, 123.0: 5, 124.0: 5, 102.0: 5, 132.0: 5, 104.0: 5, 125.0: 5, 122.0: 5, 121.0: 4, 106.0: 4, 76.0: 4, 91.0: 4, 129.0: 4, 133.0: 4, 94.0: 4, 88.0: 4, 118.0: 4, 139.0: 4, 111.0: 4, 113.0: 4, 120.0: 4, 119.0: 4, 74.0: 3, 108.0: 3, 171.0: 3, 137.0: 3, 79.0: 3, 150.0: 3, 112.0: 3, 127.0: 3, 219.0: 3, 172.0: 3, 89.0: 3, 128.0: 3, 214.0: 3, 105.0: 3, 78.0: 3, 103.0: 3, 82.0: 3, 97.0: 3, 81.0: 3, 138.0: 2, 490.0: 2, 208.0: 2, 98.0: 2, 204.0: 2, 207.0: 2, 144.0: 2, 253.0: 2, 141.0: 2, 86.0: 2, 360.0: 2, 163.0: 2, 158.0: 2, 165.0: 2, 169.0: 2, 210.0: 2, 101.0: 2, 153.0: 2, 213.0: 2, 424.0: 2, 303.0: 2, 192.0: 2, 80.0: 2, 110.0: 2, 96.0: 2, 85.0: 2, 83.0: 2, 75.0: 2, nan: 1, 423.0: 1, 410.0: 1, 380.0: 1, 157.0: 1, 263.0: 1, 173.0: 1, nan: 1, nan: 1, nan: 1, 156.0: 1, 264.0: 1, nan: 1, 159.0: 1, 270.0: 1, nan: 1, nan: 1, nan: 1, 162.0: 1, nan: 1, 246.0: 1, nan: 1, nan: 1, nan: 1, nan: 1, 182.0: 1, 146.0: 1, nan: 1, 425.0: 1, 250.0: 1, nan: 1, nan: 1, nan: 1, 415.0: 1, 251.0: 1, 280.0: 1, 295.0: 1, 298.0: 1, 226.0: 1, 143.0: 1, 115.0: 1, 297.0: 1, 233.0: 1, 294.0: 1, nan: 1, nan: 1, nan: 1, nan: 1, 323.0: 1, nan: 1, nan: 1, 90.0: 1, 308.0: 1, 224.0: 1, nan: 1, 268.0: 1, nan: 1, 256.0: 1, nan: 1, 84.0: 1, nan: 1, 288.0: 1, 273.0: 1, 242.0: 1, 148.0: 1, nan: 1, 160.0: 1, nan: 1, 307.0: 1, 220.0: 1, 447.0: 1, 309.0: 1, 22.0: 1, 261.0: 1, 215.0: 1, 234.0: 1, 352.0: 1, nan: 1, nan: 1, 239.0: 1, nan: 1, nan: 1, 184.0: 1, nan: 1, 252.0: 1, 230.0: 1, 341.0: 1, nan: 1, 255.0: 1, nan: 1, 238.0: 1, 248.0: 1, 241.0: 1, 269.0: 1, nan: 1, nan: 1, 201.0: 1, 203.0: 1, 463.0: 1, 176.0: 1, nan: 1, nan: 1, 116.0: 1, nan: 1, nan: 1, nan: 1, 134.0: 1, 87.0: 1, nan: 1})\n",
      "************************************************************************************************************************\n",
      "\n",
      "Continous Columns: red_blood_cell_count\n",
      "Counter({nan: 130, '5.2': 18, '4.5': 16, '4.9': 14, '4.7': 11, '3.9': 10, '4.8': 10, '4.6': 9, '3.4': 9, '3.7': 8, '5.0': 8, '6.1': 8, '5.5': 8, '5.9': 8, '3.8': 7, '5.4': 7, '5.8': 7, '5.3': 7, '4.3': 6, '4.2': 6, '5.6': 6, '4.4': 5, '3.2': 5, '4.1': 5, '6.2': 5, '5.1': 5, '6.4': 5, '5.7': 5, '6.5': 5, '3.6': 4, '6.0': 4, '6.3': 4, '4.0': 3, '4': 3, '3.5': 3, '3.3': 3, '5': 2, '2.6': 2, '2.8': 2, '2.5': 2, '3.1': 2, '2.1': 2, '2.9': 2, '2.7': 2, '3.0': 2, '2.3': 1, '8.0': 1, '3': 1, '2.4': 1, '\\t?': 1})\n",
      "************************************************************************************************************************\n",
      "\n",
      "Continous Columns: albumin\n",
      "Counter({0.0: 199, 1.0: 44, 2.0: 43, 3.0: 43, 4.0: 24, nan: 1, nan: 1, nan: 1, nan: 1, nan: 1, nan: 1, nan: 1, nan: 1, nan: 1, nan: 1, nan: 1, nan: 1, nan: 1, nan: 1, nan: 1, nan: 1, nan: 1, nan: 1, nan: 1, nan: 1, nan: 1, nan: 1, 5.0: 1, nan: 1, nan: 1, nan: 1, nan: 1, nan: 1, nan: 1, nan: 1, nan: 1, nan: 1, nan: 1, nan: 1, nan: 1, nan: 1, nan: 1, nan: 1, nan: 1, nan: 1, nan: 1, nan: 1, nan: 1, nan: 1, nan: 1, nan: 1, nan: 1})\n",
      "************************************************************************************************************************\n",
      "\n",
      "Continous Columns: class\n",
      "Counter({'ckd': 250, 'notckd': 150})\n",
      "************************************************************************************************************************\n",
      "\n"
     ]
    }
   ],
   "source": [
    "for i in contcols:\n",
    "    print(\"Continous Columns:\",i)\n",
    "    print(c(data[i]))\n",
    "    print('*'*120+'\\n')"
   ]
  },
  {
   "cell_type": "markdown",
   "id": "6bbb767b",
   "metadata": {},
   "source": [
    "# Removing the columns which are not Numerrical"
   ]
  },
  {
   "cell_type": "code",
   "execution_count": 25,
   "id": "ab8ded68",
   "metadata": {},
   "outputs": [
    {
     "name": "stdout",
     "output_type": "stream",
     "text": [
      "{'red_blood_cells', 'hemoglobin', 'appetite', 'white_blood_cell_count', 'serum_creatinine', 'hypertension', 'anemia', 'packed_cell_volume', 'coronary_artery_disease', 'bacteria', 'blood_pressure', 'sodium', 'potassium', 'pedal_edema', 'age', 'diabetesmellitus', 'pus_cell_clumps', 'pus_cell', 'blood_urea', 'blood glucose random', 'red_blood_cell_count', 'class'}\n"
     ]
    }
   ],
   "source": [
    "contcols.remove('specific_gravity')\n",
    "contcols.remove('albumin')\n",
    "contcols.remove('sugar')\n",
    "print(contcols)"
   ]
  },
  {
   "cell_type": "markdown",
   "id": "34b02fd0",
   "metadata": {},
   "source": [
    "# Adding columns which we found continuous"
   ]
  },
  {
   "cell_type": "code",
   "execution_count": 26,
   "id": "7450b257",
   "metadata": {},
   "outputs": [
    {
     "name": "stdout",
     "output_type": "stream",
     "text": [
      "{'red_blood_cells', 'hemoglobin', 'appetite', 'white_blood_cell_count', 'serum_creatinine', 'hypertension', 'anemia', 'packed_cell_volume', 'coronary_artery_disease', 'bacteria', 'blood_pressure', 'sodium', 'potassium', 'pedal_edema', 'age', 'diabetesmellitus', 'pus_cell_clumps', 'pus_cell', 'blood_urea', 'blood glucose random', 'red_blood_cell_count', 'class'}\n"
     ]
    }
   ],
   "source": [
    "contcols.add('red_blood_cell_count')\n",
    "contcols.add('packed_cell_volume')\n",
    "contcols.add('white_blood_cell_count')\n",
    "print(contcols)"
   ]
  },
  {
   "cell_type": "markdown",
   "id": "55af2907",
   "metadata": {},
   "source": [
    "# Adding columns which we found categrical"
   ]
  },
  {
   "cell_type": "code",
   "execution_count": 27,
   "id": "a33c7e15",
   "metadata": {},
   "outputs": [
    {
     "name": "stdout",
     "output_type": "stream",
     "text": [
      "{'red_blood_cells', 'hemoglobin', 'appetite', 'specific_gravity', 'serum_creatinine', 'hypertension', 'anemia', 'coronary_artery_disease', 'bacteria', 'blood_pressure', 'sodium', 'potassium', 'pedal_edema', 'age', 'diabetesmellitus', 'pus_cell_clumps', 'pus_cell', 'sugar', 'blood_urea', 'blood glucose random', 'albumin', 'class'}\n"
     ]
    }
   ],
   "source": [
    "catcols.add('specific_gravity')\n",
    "catcols.add('albumin')\n",
    "catcols.add('sugar')\n",
    "print(catcols)"
   ]
  },
  {
   "cell_type": "markdown",
   "id": "2a3c6aad",
   "metadata": {},
   "source": [
    "# Rectifying the categorical columns classes"
   ]
  },
  {
   "cell_type": "code",
   "execution_count": 28,
   "id": "d9395284",
   "metadata": {},
   "outputs": [
    {
     "data": {
      "text/plain": [
       "Counter({'no': 364, 'yes': 34, nan: 2})"
      ]
     },
     "execution_count": 28,
     "metadata": {},
     "output_type": "execute_result"
    }
   ],
   "source": [
    "data['coronary_artery_disease']=data.coronary_artery_disease.replace('\\tno','no')\n",
    "c(data['coronary_artery_disease'])"
   ]
  },
  {
   "cell_type": "code",
   "execution_count": 30,
   "id": "d11dadf3",
   "metadata": {},
   "outputs": [
    {
     "data": {
      "text/plain": [
       "Counter({'yes': 136, 'no': 261, ' yes': 1, nan: 2})"
      ]
     },
     "execution_count": 30,
     "metadata": {},
     "output_type": "execute_result"
    }
   ],
   "source": [
    "data['diabetesmellitus']=data.diabetesmellitus.replace(to_replace={'\\tno':'no','\\tyes':'yes','yes':'yes'})\n",
    "c(data['diabetesmellitus'])"
   ]
  },
  {
   "cell_type": "markdown",
   "id": "e3059e71",
   "metadata": {},
   "source": [
    "# Null Values"
   ]
  },
  {
   "cell_type": "code",
   "execution_count": 31,
   "id": "da2df69c",
   "metadata": {},
   "outputs": [
    {
     "data": {
      "text/plain": [
       "age                         True\n",
       "blood_pressure              True\n",
       "specific_gravity            True\n",
       "albumin                     True\n",
       "sugar                       True\n",
       "red_blood_cells             True\n",
       "pus_cell                    True\n",
       "pus_cell_clumps             True\n",
       "bacteria                    True\n",
       "blood glucose random        True\n",
       "blood_urea                  True\n",
       "serum_creatinine            True\n",
       "sodium                      True\n",
       "potassium                   True\n",
       "hemoglobin                  True\n",
       "packed_cell_volume          True\n",
       "white_blood_cell_count      True\n",
       "red_blood_cell_count        True\n",
       "hypertension                True\n",
       "diabetesmellitus            True\n",
       "coronary_artery_disease     True\n",
       "appetite                    True\n",
       "pedal_edema                 True\n",
       "anemia                      True\n",
       "class                      False\n",
       "dtype: bool"
      ]
     },
     "execution_count": 31,
     "metadata": {},
     "output_type": "execute_result"
    }
   ],
   "source": [
    "data.isnull().any()"
   ]
  },
  {
   "cell_type": "code",
   "execution_count": 32,
   "id": "a32f2280",
   "metadata": {},
   "outputs": [
    {
     "data": {
      "text/plain": [
       "age                          9\n",
       "blood_pressure              12\n",
       "specific_gravity            47\n",
       "albumin                     46\n",
       "sugar                       49\n",
       "red_blood_cells            152\n",
       "pus_cell                    65\n",
       "pus_cell_clumps              4\n",
       "bacteria                     4\n",
       "blood glucose random        44\n",
       "blood_urea                  19\n",
       "serum_creatinine            17\n",
       "sodium                      87\n",
       "potassium                   88\n",
       "hemoglobin                  52\n",
       "packed_cell_volume          70\n",
       "white_blood_cell_count     105\n",
       "red_blood_cell_count       130\n",
       "hypertension                 2\n",
       "diabetesmellitus             2\n",
       "coronary_artery_disease      2\n",
       "appetite                     1\n",
       "pedal_edema                  1\n",
       "anemia                       1\n",
       "class                        0\n",
       "dtype: int64"
      ]
     },
     "execution_count": 32,
     "metadata": {},
     "output_type": "execute_result"
    }
   ],
   "source": [
    "data.isnull().sum()"
   ]
  },
  {
   "cell_type": "code",
   "execution_count": 33,
   "id": "db52f848",
   "metadata": {},
   "outputs": [],
   "source": [
    "data.packed_cell_volume=pd.to_numeric(data.packed_cell_volume,errors='coerce')\n",
    "data.white_blood_cell_count=pd.to_numeric(data.white_blood_cell_count,errors='coerce')\n",
    "data.red_blood_cell_count=pd.to_numeric(data.red_blood_cell_count,errors='coerce')"
   ]
  },
  {
   "cell_type": "markdown",
   "id": "e21deeb3",
   "metadata": {},
   "source": [
    "# Handling continous/numerical columns Null values"
   ]
  },
  {
   "cell_type": "code",
   "execution_count": 34,
   "id": "b518d848",
   "metadata": {},
   "outputs": [],
   "source": [
    "data['blood glucose random'].fillna(data['blood glucose random'].mean(),inplace=True)\n",
    "data['blood_pressure'].fillna(data['blood_pressure'].mean(),inplace=True)\n",
    "data['blood_urea'].fillna(data['blood_urea'].mean(),inplace=True)\n",
    "data['hemoglobin'].fillna(data['hemoglobin'].mean(),inplace=True)\n",
    "data['packed_cell_volume'].fillna(data['packed_cell_volume'].mean(),inplace=True)\n",
    "data['potassium'].fillna(data['potassium'].mean(),inplace=True)\n",
    "data['red_blood_cell_count'].fillna(data['red_blood_cell_count'].mean(),inplace=True)\n",
    "data['serum_creatinine'].fillna(data['serum_creatinine'].mean(),inplace=True)\n",
    "data['sodium'].fillna(data['sodium'].mean(),inplace=True)\n",
    "data['white_blood_cell_count'].fillna(data['white_blood_cell_count'].mean(),inplace=True)"
   ]
  },
  {
   "cell_type": "code",
   "execution_count": 37,
   "id": "f6ea8f2e",
   "metadata": {},
   "outputs": [],
   "source": [
    "data['age'].fillna(data['age'].mode()[0],inplace=True)\n",
    "data['hypertension'].fillna(data['hypertension'].mode()[0],inplace=True)\n",
    "data['pus_cell_clumps'].fillna(data['pus_cell_clumps'].mode()[0],inplace=True)\n",
    "data['appetite'].fillna(data['appetite'].mode()[0],inplace=True)\n",
    "data['albumin'].fillna(data['albumin'].mode()[0],inplace=True)\n",
    "data['pus_cell'].fillna(data['pus_cell'].mode()[0],inplace=True)\n",
    "data['red_blood_cells'].fillna(data['red_blood_cells'].mode()[0],inplace=True)\n",
    "data['coronary_artery_disease'].fillna(data['coronary_artery_disease'].mode()[0],inplace=True)\n",
    "data['bacteria'].fillna(data['bacteria'].mode()[0],inplace=True)\n",
    "data['anemia'].fillna(data['anemia'].mode()[0],inplace=True)\n",
    "data['sugar'].fillna(data['sugar'].mode()[0],inplace=True)\n",
    "data['diabetesmellitus'].fillna(data['diabetesmellitus'].mode()[0],inplace=True)\n",
    "data['pedal_edema'].fillna(data['pedal_edema'].mode()[0],inplace=True)\n",
    "data['specific_gravity'].fillna(data['specific_gravity'].mode()[0],inplace=True)"
   ]
  },
  {
   "cell_type": "code",
   "execution_count": 38,
   "id": "f7b33bd4",
   "metadata": {},
   "outputs": [
    {
     "name": "stdout",
     "output_type": "stream",
     "text": [
      "LABEL ENCODING OF:  red_blood_cells\n",
      "Counter({'normal': 353, 'abnormal': 47})\n",
      "Counter({1: 353, 0: 47})\n",
      "****************************************************************************************************\n",
      "LABEL ENCODING OF:  hemoglobin\n",
      "Counter({12.526436781609195: 52, 15.0: 16, 10.9: 8, 9.8: 7, 11.1: 7, 13.0: 7, 13.6: 7, 11.3: 6, 10.3: 6, 12.0: 6, 13.9: 6, 15.4: 5, 11.2: 5, 10.8: 5, 9.7: 5, 12.6: 5, 7.9: 5, 10.0: 5, 14.0: 5, 14.3: 5, 14.8: 5, 12.2: 4, 12.4: 4, 12.5: 4, 15.2: 4, 9.1: 4, 11.9: 4, 13.5: 4, 16.1: 4, 14.1: 4, 13.2: 4, 13.8: 4, 13.7: 4, 13.4: 4, 17.0: 4, 15.5: 4, 15.8: 4, 9.6: 3, 11.6: 3, 9.5: 3, 9.4: 3, 12.7: 3, 9.9: 3, 10.1: 3, 8.6: 3, 11.0: 3, 15.6: 3, 8.1: 3, 8.3: 3, 10.4: 3, 11.8: 3, 11.4: 3, 11.5: 3, 15.9: 3, 14.5: 3, 16.2: 3, 14.4: 3, 14.2: 3, 16.3: 3, 16.5: 3, 15.7: 3, 16.4: 3, 14.9: 3, 15.3: 3, 17.8: 3, 12.1: 2, 9.3: 2, 10.2: 2, 10.5: 2, 6.0: 2, 11.7: 2, 8.0: 2, 12.3: 2, 8.7: 2, 13.1: 2, 8.8: 2, 13.3: 2, 14.6: 2, 16.9: 2, 16.0: 2, 14.7: 2, 16.6: 2, 16.7: 2, 16.8: 2, 15.1: 2, 17.1: 2, 17.2: 2, 17.4: 2, 5.6: 1, 7.6: 1, 7.7: 1, 12.9: 1, 6.6: 1, 7.5: 1, 4.8: 1, 7.1: 1, 9.2: 1, 6.2: 1, 8.2: 1, 6.1: 1, 8.4: 1, 9.0: 1, 10.6: 1, 10.7: 1, 5.5: 1, 5.8: 1, 6.8: 1, 8.5: 1, 7.3: 1, 12.8: 1, 6.3: 1, 3.1: 1, 17.3: 1, 17.7: 1, 17.5: 1, 17.6: 1})\n",
      "Counter({62: 52, 87: 16, 45: 8, 34: 7, 47: 7, 67: 7, 73: 7, 49: 6, 39: 6, 56: 6, 76: 6, 91: 5, 48: 5, 44: 5, 33: 5, 63: 5, 16: 5, 36: 5, 77: 5, 80: 5, 85: 5, 58: 4, 60: 4, 61: 4, 89: 4, 27: 4, 55: 4, 72: 4, 98: 4, 78: 4, 69: 4, 75: 4, 74: 4, 71: 4, 107: 4, 92: 4, 95: 4, 32: 3, 52: 3, 31: 3, 30: 3, 64: 3, 35: 3, 37: 3, 23: 3, 46: 3, 93: 3, 18: 3, 20: 3, 40: 3, 54: 3, 50: 3, 51: 3, 96: 3, 82: 3, 99: 3, 81: 3, 79: 3, 100: 3, 102: 3, 94: 3, 101: 3, 86: 3, 90: 3, 115: 3, 57: 2, 29: 2, 38: 2, 41: 2, 5: 2, 53: 2, 17: 2, 59: 2, 24: 2, 68: 2, 25: 2, 70: 2, 83: 2, 106: 2, 97: 2, 84: 2, 103: 2, 104: 2, 105: 2, 88: 2, 108: 2, 109: 2, 111: 2, 3: 1, 14: 1, 15: 1, 66: 1, 9: 1, 13: 1, 1: 1, 11: 1, 28: 1, 7: 1, 19: 1, 6: 1, 21: 1, 26: 1, 42: 1, 43: 1, 2: 1, 4: 1, 10: 1, 22: 1, 12: 1, 65: 1, 8: 1, 0: 1, 110: 1, 114: 1, 112: 1, 113: 1})\n",
      "****************************************************************************************************\n",
      "LABEL ENCODING OF:  appetite\n",
      "Counter({'good': 318, 'poor': 82})\n",
      "Counter({0: 318, 1: 82})\n",
      "****************************************************************************************************\n",
      "LABEL ENCODING OF:  specific_gravity\n",
      "Counter({1.02: 153, 1.01: 84, 1.025: 81, 1.015: 75, 1.005: 7})\n",
      "Counter({3: 153, 1: 84, 4: 81, 2: 75, 0: 7})\n",
      "****************************************************************************************************\n",
      "LABEL ENCODING OF:  serum_creatinine\n",
      "Counter({1.2: 40, 1.1: 24, 1.0: 23, 0.5: 23, 0.7: 22, 0.9: 22, 0.6: 18, 0.8: 17, 3.0724543080939934: 17, 2.2: 10, 1.5: 9, 1.7: 9, 1.3: 8, 1.6: 8, 1.8: 7, 1.4: 7, 2.5: 7, 2.8: 7, 1.9: 6, 2.7: 5, 2.1: 5, 2.0: 5, 3.2: 5, 3.3: 5, 3.9: 4, 7.3: 4, 4.0: 3, 2.4: 3, 3.4: 3, 2.9: 3, 5.3: 3, 2.3: 3, 7.2: 2, 4.6: 2, 4.1: 2, 5.2: 2, 6.3: 2, 3.0: 2, 6.1: 2, 6.7: 2, 5.6: 2, 6.5: 2, 4.4: 2, 6.0: 2, 3.8: 1, 24.0: 1, 9.6: 1, 76.0: 1, 7.7: 1, 10.8: 1, 5.9: 1, 3.25: 1, 9.7: 1, 6.4: 1, 32.0: 1, 8.5: 1, 15.0: 1, 3.6: 1, 10.2: 1, 11.5: 1, 12.2: 1, 9.2: 1, 13.8: 1, 16.9: 1, 7.1: 1, 18.0: 1, 13.0: 1, 48.1: 1, 14.2: 1, 16.4: 1, 2.6: 1, 7.5: 1, 4.3: 1, 18.1: 1, 11.8: 1, 9.3: 1, 6.8: 1, 13.5: 1, 12.8: 1, 11.9: 1, 12.0: 1, 13.4: 1, 15.2: 1, 13.3: 1, 0.4: 1})\n",
      "Counter({8: 40, 7: 24, 6: 23, 1: 23, 3: 22, 5: 22, 2: 18, 4: 17, 27: 17, 18: 10, 11: 9, 13: 9, 9: 8, 12: 8, 14: 7, 10: 7, 21: 7, 24: 7, 15: 6, 23: 5, 17: 5, 16: 5, 28: 5, 30: 5, 34: 4, 53: 4, 35: 3, 20: 3, 31: 3, 25: 3, 41: 3, 19: 3, 52: 2, 39: 2, 36: 2, 40: 2, 46: 2, 26: 2, 45: 2, 49: 2, 42: 2, 48: 2, 38: 2, 44: 2, 33: 1, 81: 1, 59: 1, 84: 1, 55: 1, 62: 1, 43: 1, 29: 1, 60: 1, 47: 1, 82: 1, 56: 1, 75: 1, 32: 1, 61: 1, 63: 1, 67: 1, 57: 1, 73: 1, 78: 1, 51: 1, 79: 1, 69: 1, 83: 1, 74: 1, 77: 1, 22: 1, 54: 1, 37: 1, 80: 1, 64: 1, 58: 1, 50: 1, 72: 1, 68: 1, 65: 1, 66: 1, 71: 1, 76: 1, 70: 1, 0: 1})\n",
      "****************************************************************************************************\n",
      "LABEL ENCODING OF:  hypertension\n",
      "Counter({'no': 253, 'yes': 147})\n",
      "Counter({0: 253, 1: 147})\n",
      "****************************************************************************************************\n",
      "LABEL ENCODING OF:  anemia\n",
      "Counter({'no': 340, 'yes': 60})\n",
      "Counter({0: 340, 1: 60})\n",
      "****************************************************************************************************\n",
      "LABEL ENCODING OF:  coronary_artery_disease\n",
      "Counter({'no': 366, 'yes': 34})\n",
      "Counter({0: 366, 1: 34})\n",
      "****************************************************************************************************\n",
      "LABEL ENCODING OF:  bacteria\n",
      "Counter({'notpresent': 378, 'present': 22})\n",
      "Counter({0: 378, 1: 22})\n",
      "****************************************************************************************************\n",
      "LABEL ENCODING OF:  blood_pressure\n",
      "Counter({80.0: 116, 70.0: 112, 60.0: 71, 90.0: 53, 100.0: 25, 76.46907216494846: 12, 50.0: 5, 110.0: 3, 140.0: 1, 180.0: 1, 120.0: 1})\n",
      "Counter({4: 116, 2: 112, 1: 71, 5: 53, 6: 25, 3: 12, 0: 5, 7: 3, 9: 1, 10: 1, 8: 1})\n",
      "****************************************************************************************************\n",
      "LABEL ENCODING OF:  sodium\n",
      "Counter({137.52875399361022: 87, 135.0: 40, 140.0: 25, 141.0: 22, 139.0: 21, 142.0: 20, 138.0: 20, 137.0: 19, 136.0: 17, 150.0: 17, 147.0: 13, 145.0: 11, 132.0: 10, 146.0: 10, 131.0: 9, 144.0: 9, 133.0: 8, 130.0: 7, 134.0: 6, 143.0: 4, 127.0: 3, 124.0: 3, 114.0: 2, 125.0: 2, 128.0: 2, 122.0: 2, 113.0: 2, 120.0: 2, 111.0: 1, 104.0: 1, 4.5: 1, 129.0: 1, 163.0: 1, 126.0: 1, 115.0: 1})\n",
      "Counter({22: 87, 19: 40, 25: 25, 26: 22, 24: 21, 27: 20, 23: 20, 21: 19, 20: 17, 33: 17, 32: 13, 30: 11, 16: 10, 31: 10, 15: 9, 29: 9, 17: 8, 14: 7, 18: 6, 28: 4, 11: 3, 8: 3, 4: 2, 9: 2, 12: 2, 7: 2, 3: 2, 6: 2, 2: 1, 1: 1, 0: 1, 13: 1, 34: 1, 10: 1, 5: 1})\n",
      "****************************************************************************************************\n",
      "LABEL ENCODING OF:  potassium\n",
      "Counter({4.627243589743592: 88, 5.0: 30, 3.5: 30, 4.9: 27, 4.7: 17, 4.8: 16, 4.0: 14, 4.2: 14, 4.1: 14, 3.8: 14, 3.9: 14, 4.4: 14, 4.5: 13, 3.7: 12, 4.3: 12, 3.6: 8, 4.6: 7, 3.4: 5, 5.2: 5, 5.7: 4, 5.3: 4, 3.2: 3, 5.5: 3, 2.9: 3, 5.4: 3, 6.3: 3, 3.3: 3, 2.5: 2, 5.8: 2, 5.9: 2, 5.6: 2, 3.0: 2, 6.5: 2, 6.4: 1, 6.6: 1, 39.0: 1, 7.6: 1, 47.0: 1, 5.1: 1, 2.8: 1, 2.7: 1})\n",
      "Counter({20: 88, 24: 30, 8: 30, 23: 27, 21: 17, 22: 16, 13: 14, 15: 14, 14: 14, 11: 14, 12: 14, 17: 14, 18: 13, 10: 12, 16: 12, 9: 8, 19: 7, 7: 5, 26: 5, 31: 4, 27: 4, 5: 3, 29: 3, 3: 3, 28: 3, 34: 3, 6: 3, 0: 2, 32: 2, 33: 2, 30: 2, 4: 2, 36: 2, 35: 1, 37: 1, 39: 1, 38: 1, 40: 1, 25: 1, 2: 1, 1: 1})\n",
      "****************************************************************************************************\n",
      "LABEL ENCODING OF:  pedal_edema\n",
      "Counter({'no': 324, 'yes': 76})\n",
      "Counter({0: 324, 1: 76})\n",
      "****************************************************************************************************\n",
      "LABEL ENCODING OF:  age\n",
      "Counter({60.0: 28, 65.0: 17, 48.0: 12, 50.0: 12, 55.0: 12, 47.0: 11, 62.0: 10, 45.0: 10, 54.0: 10, 59.0: 10, 56.0: 10, 61.0: 9, 70.0: 9, 46.0: 9, 34.0: 9, 68.0: 8, 73.0: 8, 64.0: 8, 71.0: 8, 57.0: 8, 63.0: 7, 72.0: 7, 67.0: 7, 30.0: 7, 42.0: 6, 69.0: 6, 35.0: 6, 44.0: 6, 43.0: 6, 33.0: 6, 51.0: 5, 52.0: 5, 53.0: 5, 75.0: 5, 76.0: 5, 58.0: 5, 41.0: 5, 66.0: 5, 24.0: 4, 40.0: 4, 39.0: 4, 80.0: 4, 23.0: 4, 74.0: 3, 38.0: 3, 17.0: 3, 8.0: 3, 32.0: 3, 37.0: 3, 25.0: 3, 29.0: 3, 21.0: 2, 15.0: 2, 5.0: 2, 12.0: 2, 49.0: 2, 19.0: 2, 36.0: 2, 20.0: 2, 28.0: 2, 7.0: 1, 82.0: 1, 11.0: 1, 26.0: 1, 81.0: 1, 14.0: 1, 27.0: 1, 83.0: 1, 4.0: 1, 3.0: 1, 6.0: 1, 90.0: 1, 78.0: 1, 2.0: 1, 22.0: 1, 79.0: 1})\n",
      "Counter({52: 28, 57: 17, 40: 12, 42: 12, 47: 12, 39: 11, 54: 10, 37: 10, 46: 10, 51: 10, 48: 10, 53: 9, 62: 9, 38: 9, 26: 9, 60: 8, 65: 8, 56: 8, 63: 8, 49: 8, 55: 7, 64: 7, 59: 7, 23: 7, 34: 6, 61: 6, 27: 6, 36: 6, 35: 6, 25: 6, 43: 5, 44: 5, 45: 5, 67: 5, 68: 5, 50: 5, 33: 5, 58: 5, 17: 4, 32: 4, 31: 4, 71: 4, 16: 4, 66: 3, 30: 3, 11: 3, 6: 3, 24: 3, 29: 3, 18: 3, 22: 3, 14: 2, 10: 2, 3: 2, 8: 2, 41: 2, 12: 2, 28: 2, 13: 2, 21: 2, 5: 1, 73: 1, 7: 1, 19: 1, 72: 1, 9: 1, 20: 1, 74: 1, 2: 1, 1: 1, 4: 1, 75: 1, 69: 1, 0: 1, 15: 1, 70: 1})\n",
      "****************************************************************************************************\n",
      "LABEL ENCODING OF:  diabetesmellitus\n",
      "Counter({'no': 263, 'yes': 136, ' yes': 1})\n",
      "Counter({1: 263, 2: 136, 0: 1})\n",
      "****************************************************************************************************\n",
      "LABEL ENCODING OF:  pus_cell_clumps\n",
      "Counter({'notpresent': 358, 'present': 42})\n",
      "Counter({0: 358, 1: 42})\n",
      "****************************************************************************************************\n",
      "LABEL ENCODING OF:  pus_cell\n",
      "Counter({'normal': 324, 'abnormal': 76})\n",
      "Counter({1: 324, 0: 76})\n",
      "****************************************************************************************************\n",
      "LABEL ENCODING OF:  sugar\n",
      "Counter({0.0: 339, 2.0: 18, 3.0: 14, 4.0: 13, 1.0: 13, 5.0: 3})\n",
      "Counter({0: 339, 2: 18, 3: 14, 4: 13, 1: 13, 5: 3})\n",
      "****************************************************************************************************\n",
      "LABEL ENCODING OF:  blood_urea\n",
      "Counter({57.425721784776904: 19, 46.0: 15, 25.0: 13, 19.0: 11, 40.0: 10, 18.0: 9, 50.0: 9, 15.0: 9, 48.0: 9, 26.0: 8, 27.0: 8, 32.0: 8, 49.0: 8, 36.0: 7, 28.0: 7, 20.0: 7, 17.0: 7, 38.0: 7, 16.0: 7, 30.0: 7, 44.0: 7, 31.0: 6, 45.0: 6, 39.0: 6, 29.0: 6, 24.0: 6, 37.0: 6, 22.0: 6, 23.0: 6, 53.0: 5, 55.0: 5, 33.0: 5, 66.0: 5, 35.0: 5, 42.0: 5, 47.0: 4, 51.0: 4, 34.0: 4, 68.0: 4, 41.0: 4, 60.0: 3, 107.0: 3, 80.0: 3, 96.0: 3, 52.0: 3, 106.0: 3, 125.0: 3, 56.0: 2, 54.0: 2, 72.0: 2, 86.0: 2, 90.0: 2, 87.0: 2, 155.0: 2, 153.0: 2, 77.0: 2, 89.0: 2, 111.0: 2, 73.0: 2, 98.0: 2, 82.0: 2, 132.0: 2, 58.0: 2, 10.0: 2, 162.0: 1, 148.0: 1, 180.0: 1, 163.0: 1, 75.0: 1, 65.0: 1, 103.0: 1, 70.0: 1, 202.0: 1, 114.0: 1, 164.0: 1, 142.0: 1, 391.0: 1, 92.0: 1, 139.0: 1, 85.0: 1, 186.0: 1, 217.0: 1, 88.0: 1, 118.0: 1, 50.1: 1, 71.0: 1, 21.0: 1, 219.0: 1, 166.0: 1, 208.0: 1, 176.0: 1, 145.0: 1, 165.0: 1, 322.0: 1, 235.0: 1, 76.0: 1, 113.0: 1, 1.5: 1, 146.0: 1, 133.0: 1, 137.0: 1, 67.0: 1, 115.0: 1, 223.0: 1, 98.6: 1, 158.0: 1, 94.0: 1, 74.0: 1, 150.0: 1, 61.0: 1, 57.0: 1, 95.0: 1, 191.0: 1, 93.0: 1, 241.0: 1, 64.0: 1, 79.0: 1, 215.0: 1, 309.0: 1})\n",
      "Counter({45: 19, 32: 15, 12: 13, 6: 11, 27: 10, 5: 9, 36: 9, 2: 9, 34: 9, 13: 8, 14: 8, 19: 8, 35: 8, 23: 7, 15: 7, 7: 7, 4: 7, 25: 7, 3: 7, 17: 7, 30: 7, 18: 6, 31: 6, 26: 6, 16: 6, 11: 6, 24: 6, 9: 6, 10: 6, 40: 5, 42: 5, 20: 5, 51: 5, 22: 5, 29: 5, 33: 4, 38: 4, 21: 4, 53: 4, 28: 4, 47: 3, 80: 3, 63: 3, 75: 3, 39: 3, 79: 3, 86: 3, 43: 2, 41: 2, 56: 2, 66: 2, 70: 2, 67: 2, 97: 2, 96: 2, 61: 2, 69: 2, 81: 2, 57: 2, 76: 2, 64: 2, 87: 2, 46: 2, 1: 2, 99: 1, 94: 1, 105: 1, 100: 1, 59: 1, 50: 1, 78: 1, 54: 1, 108: 1, 83: 1, 101: 1, 91: 1, 118: 1, 71: 1, 90: 1, 65: 1, 106: 1, 111: 1, 68: 1, 85: 1, 37: 1, 55: 1, 8: 1, 112: 1, 103: 1, 109: 1, 104: 1, 92: 1, 102: 1, 117: 1, 114: 1, 60: 1, 82: 1, 0: 1, 93: 1, 88: 1, 89: 1, 52: 1, 84: 1, 113: 1, 77: 1, 98: 1, 73: 1, 58: 1, 95: 1, 48: 1, 44: 1, 74: 1, 107: 1, 72: 1, 115: 1, 49: 1, 62: 1, 110: 1, 116: 1})\n",
      "****************************************************************************************************\n",
      "LABEL ENCODING OF:  blood glucose random\n",
      "Counter({148.0365168539326: 44, 99.0: 10, 100.0: 9, 93.0: 9, 107.0: 8, 117.0: 6, 140.0: 6, 92.0: 6, 109.0: 6, 131.0: 6, 130.0: 6, 70.0: 5, 114.0: 5, 95.0: 5, 123.0: 5, 124.0: 5, 102.0: 5, 132.0: 5, 104.0: 5, 125.0: 5, 122.0: 5, 121.0: 4, 106.0: 4, 76.0: 4, 91.0: 4, 129.0: 4, 133.0: 4, 94.0: 4, 88.0: 4, 118.0: 4, 139.0: 4, 111.0: 4, 113.0: 4, 120.0: 4, 119.0: 4, 74.0: 3, 108.0: 3, 171.0: 3, 137.0: 3, 79.0: 3, 150.0: 3, 112.0: 3, 127.0: 3, 219.0: 3, 172.0: 3, 89.0: 3, 128.0: 3, 214.0: 3, 105.0: 3, 78.0: 3, 103.0: 3, 82.0: 3, 97.0: 3, 81.0: 3, 138.0: 2, 490.0: 2, 208.0: 2, 98.0: 2, 204.0: 2, 207.0: 2, 144.0: 2, 253.0: 2, 141.0: 2, 86.0: 2, 360.0: 2, 163.0: 2, 158.0: 2, 165.0: 2, 169.0: 2, 210.0: 2, 101.0: 2, 153.0: 2, 213.0: 2, 424.0: 2, 303.0: 2, 192.0: 2, 80.0: 2, 110.0: 2, 96.0: 2, 85.0: 2, 83.0: 2, 75.0: 2, 423.0: 1, 410.0: 1, 380.0: 1, 157.0: 1, 263.0: 1, 173.0: 1, 156.0: 1, 264.0: 1, 159.0: 1, 270.0: 1, 162.0: 1, 246.0: 1, 182.0: 1, 146.0: 1, 425.0: 1, 250.0: 1, 415.0: 1, 251.0: 1, 280.0: 1, 295.0: 1, 298.0: 1, 226.0: 1, 143.0: 1, 115.0: 1, 297.0: 1, 233.0: 1, 294.0: 1, 323.0: 1, 90.0: 1, 308.0: 1, 224.0: 1, 268.0: 1, 256.0: 1, 84.0: 1, 288.0: 1, 273.0: 1, 242.0: 1, 148.0: 1, 160.0: 1, 307.0: 1, 220.0: 1, 447.0: 1, 309.0: 1, 22.0: 1, 261.0: 1, 215.0: 1, 234.0: 1, 352.0: 1, 239.0: 1, 184.0: 1, 252.0: 1, 230.0: 1, 341.0: 1, 255.0: 1, 238.0: 1, 248.0: 1, 241.0: 1, 269.0: 1, 201.0: 1, 203.0: 1, 463.0: 1, 176.0: 1, 116.0: 1, 134.0: 1, 87.0: 1})\n",
      "Counter({70: 44, 26: 10, 27: 9, 20: 9, 34: 8, 44: 6, 64: 6, 19: 6, 36: 6, 57: 6, 56: 6, 1: 5, 41: 5, 22: 5, 50: 5, 51: 5, 29: 5, 58: 5, 31: 5, 52: 5, 49: 5, 48: 4, 33: 4, 4: 4, 18: 4, 55: 4, 59: 4, 21: 4, 15: 4, 45: 4, 63: 4, 38: 4, 40: 4, 47: 4, 46: 4, 2: 3, 35: 3, 82: 3, 61: 3, 6: 3, 71: 3, 39: 3, 53: 3, 98: 3, 83: 3, 16: 3, 54: 3, 96: 3, 32: 3, 5: 3, 30: 3, 9: 3, 24: 3, 8: 3, 62: 2, 146: 2, 93: 2, 25: 2, 91: 2, 92: 2, 67: 2, 114: 2, 65: 2, 13: 2, 137: 2, 79: 2, 75: 2, 80: 2, 81: 2, 94: 2, 28: 2, 72: 2, 95: 2, 142: 2, 130: 2, 88: 2, 7: 2, 37: 2, 23: 2, 12: 2, 10: 2, 3: 2, 141: 1, 139: 1, 138: 1, 74: 1, 118: 1, 84: 1, 73: 1, 119: 1, 76: 1, 122: 1, 78: 1, 109: 1, 86: 1, 68: 1, 143: 1, 111: 1, 140: 1, 112: 1, 124: 1, 127: 1, 129: 1, 101: 1, 66: 1, 42: 1, 128: 1, 103: 1, 126: 1, 134: 1, 17: 1, 132: 1, 100: 1, 120: 1, 116: 1, 11: 1, 125: 1, 123: 1, 108: 1, 69: 1, 77: 1, 131: 1, 99: 1, 144: 1, 133: 1, 0: 1, 117: 1, 97: 1, 104: 1, 136: 1, 106: 1, 87: 1, 113: 1, 102: 1, 135: 1, 115: 1, 105: 1, 110: 1, 107: 1, 121: 1, 89: 1, 90: 1, 145: 1, 85: 1, 43: 1, 60: 1, 14: 1})\n",
      "****************************************************************************************************\n",
      "LABEL ENCODING OF:  albumin\n",
      "Counter({0.0: 245, 1.0: 44, 2.0: 43, 3.0: 43, 4.0: 24, 5.0: 1})\n",
      "Counter({0: 245, 1: 44, 2: 43, 3: 43, 4: 24, 5: 1})\n",
      "****************************************************************************************************\n",
      "LABEL ENCODING OF:  class\n",
      "Counter({'ckd': 250, 'notckd': 150})\n",
      "Counter({0: 250, 1: 150})\n",
      "****************************************************************************************************\n"
     ]
    }
   ],
   "source": [
    "from sklearn.preprocessing import LabelEncoder\n",
    "for i in catcols:\n",
    "    print(\"LABEL ENCODING OF: \",i)\n",
    "    LEi=LabelEncoder()\n",
    "    print(c(data[i]))\n",
    "    data[i]=LEi.fit_transform(data[i])\n",
    "    print(c(data[i]))\n",
    "    print(\"*\"*100)"
   ]
  },
  {
   "cell_type": "markdown",
   "id": "c1488d37",
   "metadata": {},
   "source": [
    "# Creating Independent and Dependent"
   ]
  },
  {
   "cell_type": "code",
   "execution_count": 39,
   "id": "3745f101",
   "metadata": {},
   "outputs": [
    {
     "name": "stdout",
     "output_type": "stream",
     "text": [
      "(400, 8)\n",
      "(400, 1)\n"
     ]
    }
   ],
   "source": [
    "selcols=['red_blood_cells','pus_cell','blood glucose random','blood urea','pedal_edema','anemia','diabetesmellitus','coronary_artery_disease']\n",
    "x=pd.DataFrame(data,columns=selcols)\n",
    "y=pd.DataFrame(data,columns=['class'])\n",
    "print(x.shape)\n",
    "print(y.shape)"
   ]
  },
  {
   "cell_type": "markdown",
   "id": "73e81bdf",
   "metadata": {},
   "source": [
    "# Splitting the data into train and test"
   ]
  },
  {
   "cell_type": "code",
   "execution_count": 40,
   "id": "3ae411ed",
   "metadata": {},
   "outputs": [
    {
     "name": "stdout",
     "output_type": "stream",
     "text": [
      "(320, 8)\n",
      "(320, 1)\n",
      "(80, 8)\n",
      "(80, 1)\n"
     ]
    }
   ],
   "source": [
    "from sklearn.model_selection import train_test_split\n",
    "x_train,x_test,y_train,y_test=train_test_split(x,y,test_size=0.2,random_state=2)\n",
    "print(x_train.shape)\n",
    "print(y_train.shape)\n",
    "print(x_test.shape)\n",
    "print(y_test.shape)"
   ]
  },
  {
   "cell_type": "markdown",
   "id": "36c83b66",
   "metadata": {},
   "source": [
    "# Building a Machine Learning Model"
   ]
  },
  {
   "cell_type": "code",
   "execution_count": 47,
   "id": "df87f96e",
   "metadata": {},
   "outputs": [],
   "source": [
    "from sklearn.linear_model import LogisticRegression\n",
    "lgr = LogisticRegression()\n",
    "lgr.fit(x_train,y_train)"
   ]
  },
  {
   "cell_type": "markdown",
   "id": "1a1b933e",
   "metadata": {},
   "source": [
    "# Predicting our output with the model which we build"
   ]
  },
  {
   "cell_type": "code",
   "execution_count": 54,
   "id": "d1cf87ee",
   "metadata": {},
   "outputs": [],
   "source": [
    "y_pred = lgr.predict(x_test)"
   ]
  },
  {
   "cell_type": "code",
   "execution_count": 56,
   "id": "5f14aafe",
   "metadata": {},
   "outputs": [],
   "source": [
    "y_pred1 = lgr.predict([[129,99,1,0,0,1,0,1]])\n",
    "\n",
    "print(y_pred)\n",
    "c(y_pred)"
   ]
  },
  {
   "cell_type": "code",
   "execution_count": 58,
   "id": "284b020e",
   "metadata": {},
   "outputs": [],
   "source": [
    "accuracy_score(y_test , y_pred)"
   ]
  },
  {
   "cell_type": "markdown",
   "id": "fde96309",
   "metadata": {},
   "source": [
    "# Confusion Matrix of our model"
   ]
  },
  {
   "cell_type": "code",
   "execution_count": 62,
   "id": "954cbec5",
   "metadata": {},
   "outputs": [],
   "source": [
    "conf_mat = confusion_matrix(y_test,y_pred)\n",
    "conf_mat"
   ]
  },
  {
   "cell_type": "code",
   "execution_count": 64,
   "id": "d6ebc35a",
   "metadata": {},
   "outputs": [],
   "source": [
    "pickle.dump(lgr, open('CKD.pkl','wb'))"
   ]
  },
  {
   "cell_type": "code",
   "execution_count": null,
   "id": "41a64709",
   "metadata": {},
   "outputs": [],
   "source": []
  }
 ],
 "metadata": {
  "kernelspec": {
   "display_name": "Python 3 (ipykernel)",
   "language": "python",
   "name": "python3"
  },
  "language_info": {
   "codemirror_mode": {
    "name": "ipython",
    "version": 3
   },
   "file_extension": ".py",
   "mimetype": "text/x-python",
   "name": "python",
   "nbconvert_exporter": "python",
   "pygments_lexer": "ipython3",
   "version": "3.9.12"
  }
 },
 "nbformat": 4,
 "nbformat_minor": 5
}
